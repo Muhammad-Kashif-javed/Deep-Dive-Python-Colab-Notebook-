{
  "nbformat": 4,
  "nbformat_minor": 0,
  "metadata": {
    "colab": {
      "provenance": [],
      "include_colab_link": true
    },
    "kernelspec": {
      "name": "python3",
      "display_name": "Python 3"
    },
    "language_info": {
      "name": "python"
    }
  },
  "cells": [
    {
      "cell_type": "markdown",
      "metadata": {
        "id": "view-in-github",
        "colab_type": "text"
      },
      "source": [
        "<a href=\"https://colab.research.google.com/github/Muhammad-Kashif-javed/Deep-Dive-Python-Colab-Notebook-/blob/main/Python_Deep_Dive_Lecture_2.ipynb\" target=\"_parent\"><img src=\"https://colab.research.google.com/assets/colab-badge.svg\" alt=\"Open In Colab\"/></a>"
      ]
    },
    {
      "cell_type": "markdown",
      "source": [
        "# Operators in Python: A Hands-On Tutorial\n",
        "\n",
        "Welcome to this tutorial on operators in Python! This notebook covers:\n",
        "\n",
        "- Arithmetic Operators\n",
        "- Relational (Comparison) Operators\n",
        "- Logical Operators\n",
        "- Assignment Operators\n",
        "- Operator Precedence\n",
        "\n",
        "🔍 **Interactive Learning:**  \n",
        "Each section includes examples, tasks, and challenges. Execute the code cells and try the exercises yourself!\n",
        "\n",
        "👩‍💻 **Next Steps:**  \n",
        "At the end of this notebook, you'll find a hands-on challenge to test your understanding.\n",
        "\n",
        "---\n"
      ],
      "metadata": {
        "id": "flyuiDdGwRHp"
      }
    },
    {
      "cell_type": "markdown",
      "source": [
        "## Arithmetic Operators\n",
        "\n",
        "Arithmetic operators allow us to perform basic mathematical operations. Below are the common ones:\n",
        "\n",
        "| Operator | Description        |\n",
        "|----------|--------------------|\n",
        "| `+`      | Addition           |\n",
        "| `-`      | Subtraction        |\n",
        "| `*`      | Multiplication     |\n",
        "| `/`      | Division           |\n",
        "| `//`     | Floor Division     |\n",
        "| `%`      | Modulus (Remainder)|\n",
        "| `**`     | Exponentiation     |\n",
        "\n",
        "---\n",
        "### Examples\n"
      ],
      "metadata": {
        "id": "Gd8faNwrwcpg"
      }
    },
    {
      "cell_type": "code",
      "source": [
        "# Arithmetic Operators in Action\n",
        "a = 10\n",
        "b = 3\n",
        "\n",
        "print(\"Addition:\", a + b)      # 13\n",
        "print(\"Subtraction:\", a - b)   # 7\n",
        "print(\"Multiplication:\", a * b) # 30\n",
        "print(\"Division:\", a / b)      # 3.333\n",
        "print(\"Floor Division:\", a // b) # 3\n",
        "print(\"Modulus:\", a % b)       # 1\n",
        "print(\"Exponentiation:\", a ** b) # 1000\n"
      ],
      "metadata": {
        "id": "2cxzua4mwhUv",
        "colab": {
          "base_uri": "https://localhost:8080/"
        },
        "outputId": "9cab7c3f-2a6f-40f0-f450-e95725d1d0d9"
      },
      "execution_count": null,
      "outputs": [
        {
          "output_type": "stream",
          "name": "stdout",
          "text": [
            "Addition: 13\n",
            "Subtraction: 7\n",
            "Multiplication: 30\n",
            "Division: 3.3333333333333335\n",
            "Floor Division: 3\n",
            "Modulus: 1\n",
            "Exponentiation: 1000\n"
          ]
        }
      ]
    },
    {
      "cell_type": "markdown",
      "source": [
        "### 💡 Interactive Task:\n",
        "\n",
        "Try calculating the following using Python:\n",
        "\n",
        "1. `15 % 4`  \n",
        "2. `2 ** 4`  \n",
        "\n",
        "Write your code in the cell below.\n"
      ],
      "metadata": {
        "id": "JAkgEoNewiZR"
      }
    },
    {
      "cell_type": "code",
      "source": [],
      "metadata": {
        "id": "2ZhtVWiSwkmw"
      },
      "execution_count": null,
      "outputs": []
    },
    {
      "cell_type": "markdown",
      "source": [
        "### Task 1\n",
        "Write a program to calculate the following:\n",
        "1. The square of 12.\n",
        "2. The remainder when 45 is divided by 7.\n"
      ],
      "metadata": {
        "id": "a5IsgKmE3AQQ"
      }
    },
    {
      "cell_type": "code",
      "source": [],
      "metadata": {
        "id": "MDiVChCN3IeA"
      },
      "execution_count": null,
      "outputs": []
    },
    {
      "cell_type": "markdown",
      "source": [
        "## Relational (Comparison) Operators\n",
        "\n",
        "These operators compare two values and return a Boolean (`True` or `False`).  \n",
        "\n",
        "| Operator | Description                     |\n",
        "|----------|---------------------------------|\n",
        "| `==`     | Equal                          |\n",
        "| `!=`     | Not Equal                      |\n",
        "| `>`      | Greater Than                   |\n",
        "| `<`      | Less Than                      |\n",
        "| `>=`     | Greater Than or Equal To       |\n",
        "| `<=`     | Less Than or Equal To          |\n",
        "\n",
        "---\n",
        "### Examples\n"
      ],
      "metadata": {
        "id": "PzSeIVQpwpm4"
      }
    },
    {
      "cell_type": "code",
      "source": [
        "# Relational Operators in Action\n",
        "x = 5\n",
        "y = 10\n",
        "\n",
        "print(\"Equal:\", x == y)        # False\n",
        "print(\"Not Equal:\", x != y)    # True\n",
        "print(\"Greater:\", x > y)       # False\n",
        "print(\"Lesser:\", x < y)        # True\n",
        "print(\"Greater or Equal:\", x >= 5) # True\n",
        "print(\"Lesser or Equal:\", x <= 5) # True\n"
      ],
      "metadata": {
        "id": "vt_u7EgzwsTR",
        "colab": {
          "base_uri": "https://localhost:8080/"
        },
        "outputId": "6bf757fe-09e4-43f6-92de-eccd4418e420"
      },
      "execution_count": null,
      "outputs": [
        {
          "output_type": "stream",
          "name": "stdout",
          "text": [
            "Equal: False\n",
            "Not Equal: True\n",
            "Greater: False\n",
            "Lesser: True\n",
            "Greater or Equal: True\n",
            "Lesser or Equal: True\n"
          ]
        }
      ]
    },
    {
      "cell_type": "markdown",
      "source": [
        "### 💡 Interactive Task:\n",
        "\n",
        "Evaluate the following conditions:\n",
        "\n",
        "1. Is `7 != 5` True or False?  \n",
        "2. Write a condition to check if a variable `age` is greater than or equal to 18.  \n"
      ],
      "metadata": {
        "id": "JFMiKZgtwvPL"
      }
    },
    {
      "cell_type": "code",
      "source": [],
      "metadata": {
        "id": "PSWzaUNNwztQ"
      },
      "execution_count": null,
      "outputs": []
    },
    {
      "cell_type": "markdown",
      "source": [
        "### Task 2:\n",
        "Write a program that:\n",
        "1. Compares two numbers and prints whether they are equal.\n",
        "2. Checks if a number is greater than 100 or less than 10.\n"
      ],
      "metadata": {
        "id": "l5PSeOGp3P9g"
      }
    },
    {
      "cell_type": "code",
      "source": [],
      "metadata": {
        "id": "evtktkMT3TUD"
      },
      "execution_count": null,
      "outputs": []
    },
    {
      "cell_type": "markdown",
      "source": [
        "## Logical Operators\n",
        "\n",
        "Logical operators are used to combine multiple conditions:\n",
        "\n",
        "| Operator | Description                                     |\n",
        "|----------|-------------------------------------------------|\n",
        "| `and`    | True if **all** conditions are True             |\n",
        "| `or`     | True if **at least one** condition is True      |\n",
        "| `not`    | Reverses the condition (True becomes False)     |\n",
        "\n",
        "---\n",
        "### Examples\n"
      ],
      "metadata": {
        "id": "buDQWQdhw0AY"
      }
    },
    {
      "cell_type": "code",
      "source": [
        "# Logical Operators in Action\n",
        "x = 5\n",
        "y = 10\n",
        "\n",
        "print(x > 0 and y > 0)   # True\n",
        "print(x > 0 or y < 0)    # True\n",
        "print(not(x > 0))        # False\n"
      ],
      "metadata": {
        "id": "-p_Pebnuw2zh",
        "colab": {
          "base_uri": "https://localhost:8080/"
        },
        "outputId": "2994d2da-2acc-4138-a6dc-0b9b7cf23940"
      },
      "execution_count": null,
      "outputs": [
        {
          "output_type": "stream",
          "name": "stdout",
          "text": [
            "True\n",
            "True\n",
            "False\n"
          ]
        }
      ]
    },
    {
      "cell_type": "markdown",
      "source": [
        "### 💡 Interactive Task:\n",
        "\n",
        "Evaluate the following expressions:\n",
        "\n",
        "1. `True and False`  \n",
        "2. `False or True`  \n",
        "3. `not(False)`  \n"
      ],
      "metadata": {
        "id": "tuMuBZmBwqvw"
      }
    },
    {
      "cell_type": "code",
      "source": [],
      "metadata": {
        "id": "4SXd4Z--w7So"
      },
      "execution_count": null,
      "outputs": []
    },
    {
      "cell_type": "markdown",
      "source": [
        "# Bitwise Operators in Python\n",
        "\n",
        "Bitwise operators are used to perform operations at the binary level. These operators work directly with the binary representation of numbers. Below is an overview of the operators and their usage.\n",
        "\n",
        "## Overview of Bitwise Operators\n",
        "\n",
        "| **Operator** | **Symbol** | **Description**                                                                                          |\n",
        "|--------------|------------|----------------------------------------------------------------------------------------------------------|\n",
        "| AND          | `&`        | Sets each bit to 1 if both bits are 1.                                                                   |\n",
        "| OR           | `|`        | Sets each bit to 1 if at least one of the bits is 1.                                                    |\n",
        "| XOR          | `^`        | Sets each bit to 1 if only one of the two bits is 1.                                                    |\n",
        "| NOT          | `~`        | Inverts all the bits.                                                                                   |\n",
        "| Left Shift   | `<<`       | Shifts bits to the left, filling zeros from the right. Equivalent to multiplying by 2 for each shift.    |\n",
        "| Right Shift  | `>>`       | Shifts bits to the right, discarding bits from the right. Equivalent to dividing by 2 for each shift.    |\n"
      ],
      "metadata": {
        "id": "md9JL_wkvJFv"
      }
    },
    {
      "cell_type": "code",
      "source": [
        "# Bitwise AND example\n",
        "a = 5  # Binary: 0101\n",
        "b = 3  # Binary: 0011\n",
        "\n",
        "result = a & b\n",
        "print(\"Bitwise AND:\", result)  # Output: 1 (Binary: 0001)\n"
      ],
      "metadata": {
        "colab": {
          "base_uri": "https://localhost:8080/"
        },
        "id": "MzS8VRPFvL1D",
        "outputId": "35a611b1-ef58-4e99-9a9b-533bcfde521d"
      },
      "execution_count": null,
      "outputs": [
        {
          "output_type": "stream",
          "name": "stdout",
          "text": [
            "Bitwise AND: 1\n"
          ]
        }
      ]
    },
    {
      "cell_type": "markdown",
      "source": [
        "## Bitwise OR (`|`)\n",
        "\n",
        "The `|` operator sets each bit to 1 if at least one of the bits is 1.\n"
      ],
      "metadata": {
        "id": "kGdXw6KVvNqD"
      }
    },
    {
      "cell_type": "code",
      "source": [
        "# Bitwise OR example\n",
        "a = 5  # Binary: 0101\n",
        "b = 3  # Binary: 0011\n",
        "\n",
        "result = a | b\n",
        "print(\"Bitwise OR:\", result)  # Output: 7 (Binary: 0111)\n"
      ],
      "metadata": {
        "colab": {
          "base_uri": "https://localhost:8080/"
        },
        "id": "YbIodHjHvP5r",
        "outputId": "51f736c9-5281-40e7-8ea7-d31b8b096158"
      },
      "execution_count": null,
      "outputs": [
        {
          "output_type": "stream",
          "name": "stdout",
          "text": [
            "Bitwise OR: 7\n"
          ]
        }
      ]
    },
    {
      "cell_type": "markdown",
      "source": [
        "## Bitwise XOR (`^`)\n",
        "\n",
        "The `^` operator sets each bit to 1 if only one of the two bits is 1.\n"
      ],
      "metadata": {
        "id": "GNEZV99pvSCM"
      }
    },
    {
      "cell_type": "code",
      "source": [
        "# Bitwise XOR example\n",
        "a = 5  # Binary: 0101\n",
        "b = 3  # Binary: 0011\n",
        "\n",
        "result = a ^ b\n",
        "print(\"Bitwise XOR:\", result)  # Output: 6 (Binary: 0110)\n"
      ],
      "metadata": {
        "id": "zLyJyeLPvUUD"
      },
      "execution_count": null,
      "outputs": []
    },
    {
      "cell_type": "markdown",
      "source": [
        "## Bitwise NOT (`~`)\n",
        "\n",
        "The `~` operator inverts all the bits in the binary representation of a number. In Python, numbers are stored in two's complement form, so the result is equivalent to `-(n + 1)`.\n"
      ],
      "metadata": {
        "id": "1CekrHrNvXiG"
      }
    },
    {
      "cell_type": "code",
      "source": [
        "# Bitwise NOT example\n",
        "a = 5  # Binary: 0101\n",
        "\n",
        "result = ~a\n",
        "print(\"Bitwise NOT:\", result)  # Output: -6\n"
      ],
      "metadata": {
        "id": "i71InLGxvYdE"
      },
      "execution_count": null,
      "outputs": []
    },
    {
      "cell_type": "markdown",
      "source": [
        "## Bitwise Left Shift (`<<`)\n",
        "\n",
        "The `<<` operator shifts the bits to the left, filling zeros from the right. Each shift is equivalent to multiplying the number by 2.\n"
      ],
      "metadata": {
        "id": "9wInb3tZvabH"
      }
    },
    {
      "cell_type": "code",
      "source": [
        "# Bitwise Left Shift example\n",
        "a = 5  # Binary: 0101\n",
        "\n",
        "result = a << 1\n",
        "print(\"Left Shift:\", result)  # Output: 10 (Binary: 1010)\n"
      ],
      "metadata": {
        "id": "zTgCUCRpvhZN"
      },
      "execution_count": null,
      "outputs": []
    },
    {
      "cell_type": "markdown",
      "source": [
        "## Bitwise Right Shift (`>>`)\n",
        "\n",
        "The `>>` operator shifts the bits to the right, discarding bits from the right. Each shift is equivalent to dividing the number by 2.\n"
      ],
      "metadata": {
        "id": "25ij-RtdvkNa"
      }
    },
    {
      "cell_type": "code",
      "source": [
        "# Bitwise Right Shift example\n",
        "a = 5  # Binary: 0101\n",
        "\n",
        "result = a >> 1\n",
        "print(\"Right Shift:\", result)  # Output: 2 (Binary: 0010)\n"
      ],
      "metadata": {
        "id": "2xONSBdvvlMq"
      },
      "execution_count": null,
      "outputs": []
    },
    {
      "cell_type": "markdown",
      "source": [
        "# Exercises: Bitwise Operators\n",
        "\n",
        "1. What is the output of the following code?\n",
        "   ```python\n",
        "   x = 12  # Binary: 1100\n",
        "   y = 5   # Binary: 0101\n",
        "   print(x & y)\n",
        "   print(x | y)\n",
        "   print(x ^ y)\n"
      ],
      "metadata": {
        "id": "i1Lqy0snvq_k"
      }
    },
    {
      "cell_type": "markdown",
      "source": [
        "## Assignment Operators\n",
        "\n",
        "These operators assign values to variables and modify them in place.\n",
        "\n",
        "| Operator | Description                       |\n",
        "|----------|-----------------------------------|\n",
        "| `=`      | Assign                           |\n",
        "| `+=`     | Add and assign (`x += 3` → `x = x + 3`) |\n",
        "| `-=`     | Subtract and assign (`x -= 3` → `x = x - 3`) |\n",
        "| `*=`     | Multiply and assign              |\n",
        "| `/=`     | Divide and assign                |\n",
        "| `%=`     | Modulus and assign               |\n",
        "\n",
        "---\n",
        "### Examples\n"
      ],
      "metadata": {
        "id": "Inlfdm8Vw89w"
      }
    },
    {
      "cell_type": "code",
      "source": [
        "# Assignment Operators in Action\n",
        "x = 5\n",
        "\n",
        "x += 3  # Equivalent to x = x + 3\n",
        "print(x) # 8\n",
        "\n",
        "x *= 2  # Equivalent to x = x * 2\n",
        "print(x) # 16\n",
        "\n",
        "x %= 3  # Equivalent to x = x % 3\n",
        "print(x) # 1\n"
      ],
      "metadata": {
        "id": "yuzohA46w99I"
      },
      "execution_count": null,
      "outputs": []
    },
    {
      "cell_type": "markdown",
      "source": [
        "## Operator Precedence\n",
        "\n",
        "Operator precedence determines the order in which operations are evaluated.  \n",
        "Use parentheses `()` to override precedence.  \n",
        "\n",
        "**Precedence Order**:\n",
        "\n",
        "1. **Parentheses** `()`  \n",
        "2. **Exponentiation** `**`  \n",
        "3. **Multiplication/Division** `*`, `/`, `//`, `%`  \n",
        "4. **Addition/Subtraction** `+`, `-`  \n",
        "5. **Comparison** `==`, `!=`, `<`, `>`, `<=`, `>=`  \n",
        "6. **Logical** `and`, `or`, `not`  \n",
        "\n",
        "---\n",
        "### Examples\n"
      ],
      "metadata": {
        "id": "MvFOR7tPxA5R"
      }
    },
    {
      "cell_type": "code",
      "source": [
        "# Operator Precedence in Action\n",
        "x = 5 + 2 * 3  # Multiplication has higher precedence\n",
        "print(x)       # 11\n",
        "\n",
        "y = (5 + 2) * 3  # Parentheses change the precedence\n",
        "print(y)       # 21\n"
      ],
      "metadata": {
        "id": "rBIrnOPTxDCw"
      },
      "execution_count": null,
      "outputs": []
    },
    {
      "cell_type": "markdown",
      "source": [
        "### Task 3:\n",
        "Write a program to:\n",
        "1. Start with a variable `x = 50`.\n",
        "2. Double its value, subtract 10, and then find the remainder when divided by 6.\n"
      ],
      "metadata": {
        "id": "JPHs7_lo3dRn"
      }
    },
    {
      "cell_type": "code",
      "source": [],
      "metadata": {
        "id": "Eow6W0l43e1Q"
      },
      "execution_count": null,
      "outputs": []
    },
    {
      "cell_type": "markdown",
      "source": [
        "## Summary\n",
        "\n",
        "- **Arithmetic operators** perform calculations.  \n",
        "- **Relational operators** compare values and return Booleans.  \n",
        "- **Logical operators** combine conditions.  \n",
        "- **Assignment operators** simplify variable updates.  \n",
        "- **Operator precedence** determines the order of evaluation.  \n",
        "\n",
        "---\n",
        "### Last Challenge:\n",
        "\n",
        "Write a program that:\n",
        "\n",
        "1. Takes two numbers as input.  \n",
        "2. Performs and prints:\n",
        "   - Addition  \n",
        "   - Multiplication  \n",
        "   - Comparison (`num1 > num2`)  \n",
        "   - Logical check (`num1 > 0 and num2 > 0`).  \n"
      ],
      "metadata": {
        "id": "najJJYjrxJAI"
      }
    },
    {
      "cell_type": "code",
      "source": [],
      "metadata": {
        "id": "_4h4LZ0z4BbR"
      },
      "execution_count": null,
      "outputs": []
    },
    {
      "cell_type": "markdown",
      "source": [],
      "metadata": {
        "id": "BTSWeza7i-ry"
      }
    }
  ]
}