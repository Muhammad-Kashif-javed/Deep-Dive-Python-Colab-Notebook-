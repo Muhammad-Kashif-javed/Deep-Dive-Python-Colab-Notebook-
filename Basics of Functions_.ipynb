{
  "cells": [
    {
      "cell_type": "markdown",
      "metadata": {
        "id": "view-in-github",
        "colab_type": "text"
      },
      "source": [
        "<a href=\"https://colab.research.google.com/github/Muhammad-Kashif-javed/Deep-Dive-Python-Colab-Notebook-/blob/main/Basics%20of%20Functions_.ipynb\" target=\"_parent\"><img src=\"https://colab.research.google.com/assets/colab-badge.svg\" alt=\"Open In Colab\"/></a>"
      ]
    },
    {
      "cell_type": "markdown",
      "metadata": {
        "id": "Ro7dkFJEvGyX"
      },
      "source": [
        "# Basics of Functions\n",
        "---\n",
        "\n",
        "## **Introduction to Functions**\n",
        "Functions are reusable blocks of code that perform specific tasks. They help make your code modular, organized, and easier to debug.\n",
        "\n",
        "### **Why Use Functions?**\n",
        "- To avoid code repetition.\n",
        "- To make the code modular and easier to manage.\n",
        "- To improve readability and reusability."
      ]
    },
    {
      "cell_type": "markdown",
      "metadata": {
        "id": "snAS-myPvLM0"
      },
      "source": [
        "## **Defining and Calling Functions**\n",
        "\n",
        "### **What is a Function?**\n",
        "A function consists of:\n",
        "- A **name** to identify the function.\n",
        "- **Parameters** (optional) to pass input data.\n",
        "- A **body** containing the code to execute.\n",
        "- An optional **return value** to send output back to the caller.\n",
        "\n",
        "### **Syntax:**\n",
        "```python\n",
        "# Define a function\n",
        "def function_name(parameters):\n",
        "    # Function body\n",
        "    return value  \n",
        "\n",
        "# Call a function\n",
        "function_name(arguments)\n",
        "```"
      ]
    },
    {
      "cell_type": "code",
      "execution_count": null,
      "metadata": {
        "colab": {
          "background_save": true
        },
        "id": "mUw43xjhvB9K",
        "outputId": "216c2d15-436e-49e2-e0de-189eca0fa64f"
      },
      "outputs": [
        {
          "name": "stdout",
          "output_type": "stream",
          "text": [
            "Hello, Ali! Welcome to the session.\n"
          ]
        }
      ],
      "source": [
        "def greet(name):\n",
        "\n",
        "    print(f\"Hello, {name}! Welcome to the session.\")\n",
        "\n",
        "# Call the function\n",
        "greet(\"Ali\")"
      ]
    },
    {
      "cell_type": "code",
      "execution_count": null,
      "metadata": {
        "id": "om1EHw7ym2LR"
      },
      "outputs": [],
      "source": [
        "def calculate(a,b):\n",
        "  \"\"\"The function calculate returns\n",
        "  the sum of two arguments a and b\"\"\"\n",
        "  return a+b\n",
        "calculate(10,2)"
      ]
    },
    {
      "cell_type": "code",
      "execution_count": null,
      "metadata": {
        "id": "1xFjcBCSmRXK"
      },
      "outputs": [],
      "source": [
        "def simple_interest(p,t,r):\n",
        "  \"\"\"The function simple_interest accepts\n",
        "  three arguments and returns\n",
        "  the simple interest accordingly\"\"\"\n",
        "  return(p*t*r)/100\n",
        "\n",
        "p = float(input(\"Enter the principle amount? \"))\n",
        "r = float(input(\"Enter the rate of interest? \"))\n",
        "t = float(input(\"Enter the time in years? \"))\n",
        "print(\"Simple Interest: \",simple_interest(p,r,t))"
      ]
    },
    {
      "cell_type": "markdown",
      "metadata": {
        "id": "0RXWHUOir2I_"
      },
      "source": [
        "# Task: Find the Largest Number in a List\n",
        "\n",
        "Write a Python function that takes a list of numbers as input and returns the largest number in the list.\n",
        "\n",
        "## Example:\n",
        "\n",
        "**Input:** `[3, 7, 2, 9, 5]`  \n",
        "**Output:** `9`\n"
      ]
    },
    {
      "cell_type": "code",
      "execution_count": null,
      "metadata": {
        "colab": {
          "base_uri": "https://localhost:8080/"
        },
        "id": "lFmf2wLJr3xg",
        "outputId": "7e708bb3-ee15-41e9-cad9-c0b223532a5c"
      },
      "outputs": [
        {
          "name": "stdout",
          "output_type": "stream",
          "text": [
            "The largest number in the list is: 9\n"
          ]
        }
      ],
      "source": [
        "def find_largest_number(numbers):\n",
        "    \"\"\"\n",
        "    Finds and returns the largest number in a given list.\n",
        "\n",
        "    Parameters:\n",
        "    numbers (list): A list of numerical values.\n",
        "\n",
        "    Returns:\n",
        "    int or float: The largest number in the list.\n",
        "    \"\"\"\n",
        "    if not numbers:\n",
        "        raise ValueError(\"The list is empty.\")\n",
        "    return max(numbers)\n",
        "\n",
        "# Example usage:\n",
        "example_list = [3, 7, 2, 9, 5]\n",
        "largest_number = find_largest_number(example_list)\n",
        "print(f\"The largest number in the list is: {largest_number}\")\n"
      ]
    },
    {
      "cell_type": "markdown",
      "metadata": {
        "id": "1dKRyQrwvWRM"
      },
      "source": [
        "## **Function Parameters and Return Values**\n",
        "\n",
        "### **Types of Parameters**\n",
        "1. **Positional Parameters:** Passed in the order defined.\n",
        "2. **Default Parameters:** Have default values if no argument is provided.\n",
        "3. **Keyword Arguments:** Specify arguments by parameter names.\n",
        "\n",
        "### **Example:**"
      ]
    },
    {
      "cell_type": "code",
      "execution_count": null,
      "metadata": {
        "colab": {
          "base_uri": "https://localhost:8080/"
        },
        "id": "WmZWqM07GLns",
        "outputId": "59203dd5-feac-4d24-baeb-fb5b87814ed3"
      },
      "outputs": [
        {
          "data": {
            "text/plain": [
              "8"
            ]
          },
          "execution_count": 3,
          "metadata": {},
          "output_type": "execute_result"
        }
      ],
      "source": [
        "def allsum(a=1,b=1):\n",
        "    return a**b\n",
        "\n",
        "allsum(b=3,a=2)"
      ]
    },
    {
      "cell_type": "code",
      "execution_count": null,
      "metadata": {
        "id": "LVwwsLvcva9c"
      },
      "outputs": [],
      "source": [
        "def calculate_area(length, width=10):\n",
        "    \"\"\"Calculate the area of a rectangle.\"\"\"\n",
        "    return length * width\n",
        "\n",
        "# Call with positional arguments\n",
        "area1 = calculate_area(5, 15)\n",
        "print(f\"Area1: {area1}\")\n",
        "\n",
        "# Call with default parameter\n",
        "area2 = calculate_area(7)\n",
        "print(f\"Area2: {area2}\")\n",
        "\n",
        "# Call with keyword arguments\n",
        "area3 = calculate_area(width=8, length=6)\n",
        "print(f\"Area3: {area3}\")"
      ]
    },
    {
      "cell_type": "markdown",
      "metadata": {
        "id": "KM5vLoy6veKE"
      },
      "source": [
        "## **Scope of Variables (Local and Global)**\n",
        "\n",
        "### **Local Variables**\n",
        "- Declared inside a function.\n",
        "- Accessible only within that function.\n",
        "\n",
        "### **Global Variables**\n",
        "- Declared outside all functions.\n",
        "- Accessible throughout the program.\n",
        "\n",
        "### **Example:**"
      ]
    },
    {
      "cell_type": "code",
      "execution_count": null,
      "metadata": {
        "id": "YWmO8nNbviJ9"
      },
      "outputs": [],
      "source": [
        "# Global variable\n",
        "global_var = 100\n",
        "\n",
        "def demo_scope():\n",
        "    # Local variable\n",
        "    local_var = 50\n",
        "    print(f\"Inside function: Local Variable = {local_var}\")\n",
        "    print(f\"Inside function: Global Variable = {global_var}\")\n",
        "\n",
        "\n",
        "# Call the function\n",
        "demo_scope()\n",
        "\n",
        "# Access global variable outside the function\n",
        "print(f\"Outside function: Global Variable = {global_var}\")"
      ]
    },
    {
      "cell_type": "markdown",
      "metadata": {
        "id": "Xc0H4VhBvmp8"
      },
      "source": [
        "### **Modifying Global Variables**\n",
        "To modify a global variable inside a function, use the `global` keyword."
      ]
    },
    {
      "cell_type": "code",
      "execution_count": null,
      "metadata": {
        "id": "iLr9N0nEvwT9"
      },
      "outputs": [],
      "source": [
        "def modify_global():\n",
        "    global global_var\n",
        "    global_var += 50\n",
        "    print(f\"Modified Global Variable = {global_var}\")\n",
        "\n",
        "# Call the function\n",
        "modify_global()\n",
        "print(f\"Global Variable After Modification = {global_var}\")"
      ]
    },
    {
      "cell_type": "markdown",
      "metadata": {
        "id": "bt5NCOndv-Nv"
      },
      "source": [
        "## **Practice Exercises**\n",
        "1. Define a function `square` that returns the square of a number.\n",
        "2. Write a function `is_even` to check if a number is even.\n",
        "3. Create a function `sum_list` that takes a list of numbers and returns their sum.\n",
        "\n",
        "### **Example Practice Solution:**"
      ]
    },
    {
      "cell_type": "code",
      "execution_count": null,
      "metadata": {
        "colab": {
          "base_uri": "https://localhost:8080/"
        },
        "id": "vI2tUlAHwBR7",
        "outputId": "c282a72f-a7f8-47bb-bad2-048a1579598b"
      },
      "outputs": [
        {
          "name": "stdout",
          "output_type": "stream",
          "text": [
            "25\n",
            "True\n",
            "15\n"
          ]
        }
      ],
      "source": [
        "def square(num):\n",
        "    return num ** 2\n",
        "\n",
        "print(square(5))\n",
        "\n",
        "\n",
        "def is_even(num):\n",
        "    return num % 2 == 0\n",
        "\n",
        "print(is_even(4))\n",
        "\n",
        "\n",
        "def sum_list(numbers):\n",
        "    return sum(numbers)\n",
        "\n",
        "print(sum_list([1, 2, 3, 4, 5]))"
      ]
    },
    {
      "cell_type": "markdown",
      "metadata": {
        "id": "2xRfN_BwcKog"
      },
      "source": [
        "# Mini Task: Advanced Function Concepts\n",
        "\n",
        "##  Problem Statement:\n",
        "Create a **Python program** that defines a function to analyze a given dataset (list of numbers). The program should include the following:\n",
        "\n",
        "### **1. Defining and Calling Functions**\n",
        "- Create and call a function named `analyze_numbers` to process the data.\n",
        "\n",
        "### **2. Function Parameters and Return Values**\n",
        "- Pass the list of numbers as a parameter.\n",
        "- Return a dictionary with the following analysis:\n",
        "  - The count of numbers.\n",
        "  - The sum of all numbers.\n",
        "  - The average of the numbers.\n",
        "  - The maximum and minimum values.\n",
        "\n",
        "### **3. Scope of Variables**\n",
        "- Use **local variables** within the function for calculations.\n",
        "- Use a **global variable** to maintain a running count of how many times the function has been called.\n"
      ]
    },
    {
      "cell_type": "code",
      "execution_count": null,
      "metadata": {
        "id": "aeJGLa7jcPxg"
      },
      "outputs": [],
      "source": []
    },
    {
      "cell_type": "markdown",
      "metadata": {
        "id": "H3r--8sOoBX4"
      },
      "source": [
        "### 2. Write a Python function that accepts a string and calculate the number of\n",
        "upper case letters and lower case letters.\n",
        "```\n",
        "Sample String : 'The quick Brow Fox'\n",
        "```\n",
        "###Expected Output :\n",
        "```\n",
        "No. of Upper case characters : 3\n",
        "No. of Lower case Characters : 12\n"
      ]
    },
    {
      "cell_type": "code",
      "execution_count": null,
      "metadata": {
        "id": "yGeufEyloQJa"
      },
      "outputs": [],
      "source": []
    },
    {
      "cell_type": "markdown",
      "metadata": {
        "id": "TTYofljfnrvs"
      },
      "source": [
        "### 3. Write a Python function to calculate the factorial of a number (a nonnegative integer). The function accepts the number as an argument."
      ]
    },
    {
      "cell_type": "code",
      "execution_count": null,
      "metadata": {
        "id": "lWNZUEdJn0M_"
      },
      "outputs": [],
      "source": []
    }
  ],
  "metadata": {
    "colab": {
      "provenance": [],
      "gpuType": "T4",
      "include_colab_link": true
    },
    "kernelspec": {
      "display_name": "Python 3",
      "name": "python3"
    },
    "language_info": {
      "name": "python"
    },
    "accelerator": "GPU"
  },
  "nbformat": 4,
  "nbformat_minor": 0
}