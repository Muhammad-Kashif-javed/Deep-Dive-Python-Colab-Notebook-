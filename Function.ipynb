{
  "nbformat": 4,
  "nbformat_minor": 0,
  "metadata": {
    "colab": {
      "provenance": [],
      "include_colab_link": true
    },
    "kernelspec": {
      "name": "python3",
      "display_name": "Python 3"
    },
    "language_info": {
      "name": "python"
    }
  },
  "cells": [
    {
      "cell_type": "markdown",
      "metadata": {
        "id": "view-in-github",
        "colab_type": "text"
      },
      "source": [
        "<a href=\"https://colab.research.google.com/github/Muhammad-Kashif-javed/Deep-Dive-Python-Colab-Notebook-/blob/main/Function.ipynb\" target=\"_parent\"><img src=\"https://colab.research.google.com/assets/colab-badge.svg\" alt=\"Open In Colab\"/></a>"
      ]
    },
    {
      "cell_type": "markdown",
      "source": [
        "### Default Arguments, `*args`, `**kwargs`, Anonymous Functions, Built-in Functions, and List Comprehensions"
      ],
      "metadata": {
        "id": "O06KdGeEGu7G"
      }
    },
    {
      "cell_type": "markdown",
      "source": [
        "### Types of Arguments\n",
        "\n",
        "- Default Argument\n",
        "- Positional Argument\n",
        "- Keyword Argument\n",
        "\n",
        "\n",
        "1- Default arguments allow you to specify default values for function parameters.\n",
        "\n",
        "2 -If no value is provided, the default value is used."
      ],
      "metadata": {
        "id": "AT5mbhpfGPnU"
      }
    },
    {
      "cell_type": "code",
      "source": [
        "def power(a=1,b=1):\n",
        "  return a**b\n"
      ],
      "metadata": {
        "id": "gVlpLXGJGTgN"
      },
      "execution_count": null,
      "outputs": []
    },
    {
      "cell_type": "code",
      "source": [
        "power(2,4)"
      ],
      "metadata": {
        "colab": {
          "base_uri": "https://localhost:8080/"
        },
        "id": "D2x8DZXQOTlr",
        "outputId": "dba91789-bce0-4001-a9e2-90e16343990c"
      },
      "execution_count": null,
      "outputs": [
        {
          "output_type": "execute_result",
          "data": {
            "text/plain": [
              "16"
            ]
          },
          "metadata": {},
          "execution_count": 5
        }
      ]
    },
    {
      "cell_type": "code",
      "source": [
        "# positional argument\n",
        "power(2,3)"
      ],
      "metadata": {
        "id": "zXoTSr14GXe6"
      },
      "execution_count": null,
      "outputs": []
    },
    {
      "cell_type": "code",
      "source": [
        "# keyword argument\n",
        "power(b=3,a=2)"
      ],
      "metadata": {
        "id": "yjKtvisEGbML",
        "colab": {
          "base_uri": "https://localhost:8080/"
        },
        "outputId": "0612ab4f-4ed1-4557-d1e6-a7fe938ab5ac"
      },
      "execution_count": null,
      "outputs": [
        {
          "output_type": "execute_result",
          "data": {
            "text/plain": [
              "8"
            ]
          },
          "metadata": {},
          "execution_count": 6
        }
      ]
    },
    {
      "cell_type": "markdown",
      "source": [
        "\n",
        "### `*args and **kwargs`\n",
        "`*args and **kwargs` are special Python keywords that are used to pass the variable length of arguments to a f\n"
      ],
      "metadata": {
        "id": "Ad7S1HfTE984"
      }
    },
    {
      "cell_type": "code",
      "source": [
        "print(type.__doc__)"
      ],
      "metadata": {
        "id": "jTi7V6uVGJax",
        "colab": {
          "base_uri": "https://localhost:8080/"
        },
        "outputId": "738ee6a8-7eb3-43d8-da6a-bc22b250bfc1"
      },
      "execution_count": null,
      "outputs": [
        {
          "output_type": "stream",
          "name": "stdout",
          "text": [
            "type(object) -> the object's type\n",
            "type(name, bases, dict, **kwds) -> a new type\n"
          ]
        }
      ]
    },
    {
      "cell_type": "code",
      "source": [
        "#function for add unlimited number\n",
        "def add(*args):\n",
        "  total = 0\n",
        "  for i in args:\n",
        "    total += i\n",
        "  return total"
      ],
      "metadata": {
        "id": "_6D0DNjnLGVJ"
      },
      "execution_count": null,
      "outputs": []
    },
    {
      "cell_type": "code",
      "source": [
        "\n",
        "add(1,2,3,4,5,6,7,8)"
      ],
      "metadata": {
        "colab": {
          "base_uri": "https://localhost:8080/"
        },
        "id": "VZZOBN7pLkXh",
        "outputId": "d2cdc4ec-a861-4107-ab41-bfa617ee7953"
      },
      "execution_count": null,
      "outputs": [
        {
          "output_type": "execute_result",
          "data": {
            "text/plain": [
              "36"
            ]
          },
          "metadata": {},
          "execution_count": 12
        }
      ]
    },
    {
      "cell_type": "code",
      "execution_count": null,
      "metadata": {
        "id": "NDI3s1SaEx63"
      },
      "outputs": [],
      "source": [
        "# *args\n",
        "# allows us to pass a variable number of non-keyword arguments to a function.\n",
        "\n",
        "def multiply(*multi):\n",
        "  product = 1\n",
        "\n",
        "  for i in multi:\n",
        "    product = product * i\n",
        "\n",
        "\n",
        "  return product"
      ]
    },
    {
      "cell_type": "code",
      "source": [
        "multiply(1,2,3,4,5,6)"
      ],
      "metadata": {
        "id": "5h9nCkpvN2jo",
        "colab": {
          "base_uri": "https://localhost:8080/"
        },
        "outputId": "951e3704-a6a4-48e0-f205-d13f3c6428d2"
      },
      "execution_count": null,
      "outputs": [
        {
          "output_type": "execute_result",
          "data": {
            "text/plain": [
              "720"
            ]
          },
          "metadata": {},
          "execution_count": 5
        }
      ]
    },
    {
      "cell_type": "markdown",
      "source": [
        "### **Function to process orders with variable arguments**"
      ],
      "metadata": {
        "id": "sHLE2uSEKxAS"
      }
    },
    {
      "cell_type": "code",
      "source": [
        "\n",
        "def process_order(customer_name, *items):\n",
        "    \"\"\"\n",
        "    Processes an order by calculating the total cost of the items.\n",
        "    Each item is a tuple with the format (item_name, price, quantity).\n",
        "    \"\"\"\n",
        "    print(f\"Processing order for {customer_name}...\")\n",
        "    total_cost = 0\n",
        "\n",
        "    # Process each item\n",
        "    for item_name, price, quantity in items:\n",
        "        item_cost = price * quantity\n",
        "        total_cost += item_cost\n",
        "        print(f\"- {item_name}: ${price} x {quantity} = ${item_cost}\")\n",
        "\n",
        "    print(f\"Total cost for {customer_name}: ${total_cost:.2f}\")\n",
        "    return total_cost"
      ],
      "metadata": {
        "id": "gKTeuXZBKq1C"
      },
      "execution_count": null,
      "outputs": []
    },
    {
      "cell_type": "code",
      "source": [
        "order1 =  \"Ahmad\",(\"Laptop\", 1200, 5),(\"Mouse\", 25, 4),(\"Keyboard\", 75, 3)\n",
        "process_order(*order1)"
      ],
      "metadata": {
        "colab": {
          "base_uri": "https://localhost:8080/"
        },
        "id": "tscU_vVFMAmw",
        "outputId": "b5d58f6a-4483-4b3d-a067-c55fa9ee9909"
      },
      "execution_count": null,
      "outputs": [
        {
          "output_type": "stream",
          "name": "stdout",
          "text": [
            "Processing order for Ahmad...\n",
            "- Laptop: $1200 x 5 = $6000\n",
            "- Mouse: $25 x 4 = $100\n",
            "- Keyboard: $75 x 3 = $225\n",
            "Total cost for Ahmad: $6325.00\n"
          ]
        },
        {
          "output_type": "execute_result",
          "data": {
            "text/plain": [
              "6325"
            ]
          },
          "metadata": {},
          "execution_count": 19
        }
      ]
    },
    {
      "cell_type": "code",
      "source": [
        "order1 = process_order(\n",
        "    \"Ahmad\",\n",
        "    (\"Laptop\", 1200, 5),\n",
        "    (\"Mouse\", 25, 4),\n",
        "    (\"Keyboard\", 75, 3),\n",
        ")"
      ],
      "metadata": {
        "colab": {
          "base_uri": "https://localhost:8080/"
        },
        "id": "3vStGQCZOJZQ",
        "outputId": "cb51beb5-4317-4d38-9b40-6caa7158a94e"
      },
      "execution_count": null,
      "outputs": [
        {
          "output_type": "stream",
          "name": "stdout",
          "text": [
            "Processing order for Ahmad...\n",
            "- Laptop: $1200 x 5 = $6000\n",
            "- Mouse: $25 x 4 = $100\n",
            "- Keyboard: $75 x 3 = $225\n",
            "Total cost for Ahmad: $6325.00\n"
          ]
        }
      ]
    },
    {
      "cell_type": "markdown",
      "source": [
        " ### `**kwargs` allows you to pass a variable number of keyword arguments, making it flexible and useful for handling named parameters dynamically."
      ],
      "metadata": {
        "id": "_jANbR2GYOwJ"
      }
    },
    {
      "cell_type": "code",
      "source": [
        "def create_user_profile(username, **details):\n",
        "    \"\"\"\n",
        "    Creates a user profile with a username and additional details.\n",
        "    \"\"\"\n",
        "    print(f\"Profile for {username}:\")\n",
        "    for key, value in details.items():\n",
        "        print(f\"- {key.capitalize()}: {value}\")\n",
        "\n"
      ],
      "metadata": {
        "id": "ca-oNIUaYZvA"
      },
      "execution_count": null,
      "outputs": []
    },
    {
      "cell_type": "code",
      "source": [
        "# Example usage\n",
        "create_user_profile(\"john_doe\", age=28, location=\"New York\", profession=\"Engineer\")\n",
        "\n",
        "create_user_profile(\n",
        "    \"jane_smith\",\n",
        "    age=34,\n",
        "    location=\"San Francisco\",\n",
        "    profession=\"Data Scientist\",\n",
        "    hobbies=[\"Reading\", \"Hiking\"]\n",
        ")"
      ],
      "metadata": {
        "id": "Y0nqdEn3ydoo",
        "colab": {
          "base_uri": "https://localhost:8080/"
        },
        "outputId": "f276848a-bc93-4d6f-9b08-6994659488b0"
      },
      "execution_count": null,
      "outputs": [
        {
          "output_type": "stream",
          "name": "stdout",
          "text": [
            "Profile for john_doe:\n",
            "- Age: 28\n",
            "- Location: New York\n",
            "- Profession: Engineer\n",
            "Profile for jane_smith:\n",
            "- Age: 34\n",
            "- Location: San Francisco\n",
            "- Profession: Data Scientist\n",
            "- Hobbies: ['Reading', 'Hiking']\n"
          ]
        }
      ]
    },
    {
      "cell_type": "markdown",
      "source": [
        "# Lambda Functions in Python\n",
        "\n",
        "A **lambda function** in Python is a small, anonymous function defined using the `lambda` keyword. It's often used for short, simple operations and can take any number of arguments but has only one expression.\n",
        "\n",
        "---\n",
        "\n",
        "### **Syntax:**\n",
        "```python\n",
        "lambda arguments: expression\n"
      ],
      "metadata": {
        "id": "e7vlbW-pQr2B"
      }
    },
    {
      "cell_type": "code",
      "source": [
        "# Regular function to add 10\n",
        "def add_ten(x):\n",
        "    return x + 10\n",
        "\n",
        "# Lambda function to add 10\n",
        "add_ten_lambda = lambda x: x + 10\n",
        "\n",
        "# Usage\n",
        "print(add_ten(5))           # Output: 15\n",
        "print(add_ten_lambda(5))    # Output: 15\n"
      ],
      "metadata": {
        "colab": {
          "base_uri": "https://localhost:8080/"
        },
        "id": "yme-u27UV5Wa",
        "outputId": "0701d6c6-0286-4b31-e316-b5c2a9aa6846"
      },
      "execution_count": null,
      "outputs": [
        {
          "output_type": "stream",
          "name": "stdout",
          "text": [
            "15\n",
            "15\n"
          ]
        }
      ]
    },
    {
      "cell_type": "code",
      "source": [
        "# Lambda function to calculate the product of two numbers\n",
        "multiply = lambda x, y: x * y\n",
        "\n",
        "# Usage\n",
        "print(multiply(3, 4))  # Output: 12"
      ],
      "metadata": {
        "colab": {
          "base_uri": "https://localhost:8080/"
        },
        "id": "MsunXCLuWb8b",
        "outputId": "649dbb9c-95ef-4f4a-adc6-29d8395bc093"
      },
      "execution_count": null,
      "outputs": [
        {
          "output_type": "stream",
          "name": "stdout",
          "text": [
            "12\n"
          ]
        }
      ]
    },
    {
      "cell_type": "code",
      "source": [
        "power(4,5)"
      ],
      "metadata": {
        "colab": {
          "base_uri": "https://localhost:8080/"
        },
        "id": "E39PvtKQUA5L",
        "outputId": "8c9c1695-7fa2-476d-9837-cd5d5b43386c"
      },
      "execution_count": null,
      "outputs": [
        {
          "output_type": "execute_result",
          "data": {
            "text/plain": [
              "1024"
            ]
          },
          "metadata": {},
          "execution_count": 28
        }
      ]
    },
    {
      "cell_type": "code",
      "source": [
        "cube = lambda x: x * x * x\n",
        "\n",
        "def appl(fx, value):\n",
        "  return 6 + fx(value)\n",
        "\n",
        "\n",
        "print(cube(5))\n",
        "\n",
        "print(appl(cube,4))"
      ],
      "metadata": {
        "colab": {
          "base_uri": "https://localhost:8080/"
        },
        "id": "4q4-dlMHWCO7",
        "outputId": "8fc65aa3-12ce-45b0-94d2-a8be4ff16983"
      },
      "execution_count": null,
      "outputs": [
        {
          "output_type": "stream",
          "name": "stdout",
          "text": [
            "125\n",
            "70\n"
          ]
        }
      ]
    },
    {
      "cell_type": "markdown",
      "source": [
        "### **Using Lambda in `map()` `filter()` and `sorted()`**"
      ],
      "metadata": {
        "id": "tlNASWXDWzaJ"
      }
    },
    {
      "cell_type": "code",
      "source": [
        "# List of numbers\n",
        "numbers = [1, 2, 3, 4, 5]\n",
        "\n",
        "# Double each number using map and lambda\n",
        "doubled = list(map(lambda x: x * 2, numbers))\n",
        "\n",
        "print(doubled)"
      ],
      "metadata": {
        "id": "i8bocIoaWzGm",
        "colab": {
          "base_uri": "https://localhost:8080/"
        },
        "outputId": "7d0f85a9-2c9f-4964-bfb8-4e832eafd1a6"
      },
      "execution_count": null,
      "outputs": [
        {
          "output_type": "stream",
          "name": "stdout",
          "text": [
            "[2, 4, 6, 8, 10]\n"
          ]
        }
      ]
    },
    {
      "cell_type": "code",
      "source": [
        "# List of numbers\n",
        "numbers = [1, 2, 3, 4, 5]\n",
        "\n",
        "# Filter even numbers using lambda\n",
        "even_numbers = list(filter(lambda x: x % 2 == 0, numbers))\n",
        "\n",
        "print(even_numbers)"
      ],
      "metadata": {
        "id": "2bT23BWbzX2_",
        "colab": {
          "base_uri": "https://localhost:8080/"
        },
        "outputId": "2c282e37-8870-4d82-8984-64750f502b70"
      },
      "execution_count": null,
      "outputs": [
        {
          "output_type": "stream",
          "name": "stdout",
          "text": [
            "[2, 4]\n"
          ]
        }
      ]
    },
    {
      "cell_type": "code",
      "source": [
        "# List of tuples (name, age)\n",
        "people = [(\"Ahmad\", 25), (\"Ibrahim\", 30), (\"Asim\", 22)]\n",
        "\n",
        "# Sort by age using lambda\n",
        "sorted_people = sorted(people, key=lambda person: person[1])\n",
        "\n",
        "print(sorted_people)"
      ],
      "metadata": {
        "id": "xhUE5deIzbRb",
        "colab": {
          "base_uri": "https://localhost:8080/"
        },
        "outputId": "abcea8df-6a95-40eb-d523-12fcbcc0fc95"
      },
      "execution_count": null,
      "outputs": [
        {
          "output_type": "stream",
          "name": "stdout",
          "text": [
            "[('Asim', 22), ('Ahmad', 25), ('Ibrahim', 30)]\n"
          ]
        }
      ]
    },
    {
      "cell_type": "markdown",
      "source": [
        "## Write a function `process_data` that:\n",
        " - Accepts a list of numbers and an operation (`add`, `multiply`) as arguments.\n",
        " - Uses default arguments for the operation.\n",
        " - Uses `*args` for additional numbers and `**kwargs` for additional configurations (e.g., scaling).\n",
        " - Uses `lambda` and built-in functions for calculations.\n",
        " - Returns the processed list using list comprehension."
      ],
      "metadata": {
        "id": "uTwqPGk8P3YT"
      }
    },
    {
      "cell_type": "code",
      "source": [
        "def process_data(numbers, operation='add', *args, **kwargs):\n",
        "\n",
        "    all_numbers = numbers + list(args)\n",
        "\n",
        "    # Determine the operation using a lambda function\n",
        "    if operation == 'add':\n",
        "        func = lambda x: x + kwargs.get('scale', 0)  # Add scaling if provided\n",
        "    elif operation == 'multiply':\n",
        "        func = lambda x: x * kwargs.get('scale', 1)  # Multiply by scaling factor if provided\n",
        "    else:\n",
        "        raise ValueError(\"Invalid operation. Choose 'add' or 'multiply'.\")\n",
        "\n",
        "    # Process the list using list comprehension\n",
        "    return [func(num) for num in all_numbers]\n",
        "\n",
        "# Example usage\n",
        "numbers = [1, 2, 3]\n",
        "result = process_data(numbers, 'add', 4, 5, scale=10)\n",
        "print(result)  # Output: [11, 12, 13, 14, 15]\n"
      ],
      "metadata": {
        "id": "VdOuHzmbQqHo"
      },
      "execution_count": null,
      "outputs": []
    }
  ]
}