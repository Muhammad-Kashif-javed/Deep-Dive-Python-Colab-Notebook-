{
  "cells": [
    {
      "cell_type": "markdown",
      "metadata": {
        "id": "view-in-github",
        "colab_type": "text"
      },
      "source": [
        "<a href=\"https://colab.research.google.com/github/Muhammad-Kashif-javed/Deep-Dive-Python-Colab-Notebook-/blob/main/Lecture1.ipynb\" target=\"_parent\"><img src=\"https://colab.research.google.com/assets/colab-badge.svg\" alt=\"Open In Colab\"/></a>"
      ]
    },
    {
      "cell_type": "markdown",
      "metadata": {
        "id": "vxVPyTRDCdXx"
      },
      "source": [
        "# Python: A Deep Dive\n",
        "\n",
        "Python is a versatile, high-level programming language known for its simplicity and readability. It was developed by **Guido van Rossum** in 1991 and has since gained massive popularity due to its adaptability across various domains.\n",
        "\n",
        "## Key Features of Python:\n",
        "- **Ease of Use**: Simple syntax, resembling natural language.\n",
        "- **Open Source**: Free to use and contribute to.\n",
        "- **Portability**: Code written in Python runs on multiple platforms.\n",
        "- **Dynamic Typing**: Variables don’t require explicit declarations.\n",
        "\n",
        "### Why Learn Python?\n",
        "Python has become one of the most in-demand programming languages because of its applications in:\n",
        "- **Web Development** (e.g., Django, Flask)\n",
        "- **Data Science** (e.g., Pandas, NumPy, Matplotlib)\n",
        "- **Artificial Intelligence & Machine Learning** (e.g., TensorFlow, Scikit-learn)\n",
        "- **Automation & Scripting**\n",
        "- **Scientific Computing** (e.g., SciPy)\n",
        "- **Game Development** (e.g., Pygame)\n"
      ]
    },
    {
      "cell_type": "markdown",
      "metadata": {
        "id": "9_5FAK3MChw9"
      },
      "source": [
        "## Future of Python Across Industries\n",
        "\n",
        "1. **Artificial Intelligence (AI) and Machine Learning (ML)**  \n",
        "   Python is the go-to language for AI and ML due to libraries like TensorFlow, PyTorch, and Scikit-learn. Its simplicity allows researchers to focus on innovation without getting bogged down by language complexity.\n",
        "\n",
        "2. **Data Science and Big Data**  \n",
        "   Python dominates this domain with libraries like Pandas, NumPy, and Matplotlib. Its ecosystem enables seamless data processing, visualization, and analysis.\n",
        "\n",
        "3. **Web Development**  \n",
        "   Frameworks such as Flask, Django, and FastAPI have made Python a strong contender for backend development. The rise of APIs has further solidified Python’s role.\n",
        "\n",
        "4. **Game Development**  \n",
        "   Python, though not a primary game development language, is used for prototyping and small-scale games. Libraries like Pygame make it accessible.\n",
        "\n",
        "5. **Cybersecurity**  \n",
        "   Python scripts are frequently used for penetration testing, malware analysis, and network security.\n",
        "\n",
        "6. **Robotics and IoT**  \n",
        "   Python's integration capabilities with hardware platforms make it crucial for robotics and IoT development.\n",
        "\n",
        "7. **Education and Research**  \n",
        "   Python is a staple in academia due to its intuitive syntax, making it ideal for students and researchers.\n"
      ]
    },
    {
      "cell_type": "markdown",
      "metadata": {
        "id": "qGx-VzbRCn8Q"
      },
      "source": [
        "## Writing Your First Python Program\n",
        "\n",
        "Python uses the `print()` function to display outputs. Here's a simple program to print \"Hello, World!\" which is a tradition for beginners learning any new language.\n"
      ]
    },
    {
      "cell_type": "code",
      "execution_count": null,
      "metadata": {
        "colab": {
          "base_uri": "https://localhost:8080/"
        },
        "id": "Zzk6-svv-xeo",
        "outputId": "8e0243cb-bbf1-48c7-98b0-44e0b7e43c59"
      },
      "outputs": [
        {
          "output_type": "stream",
          "name": "stdout",
          "text": [
            "Hello, World!\n"
          ]
        }
      ],
      "source": [
        "# First Python Program\n",
        "print(\"Hello, World!\")"
      ]
    },
    {
      "cell_type": "markdown",
      "metadata": {
        "id": "MCNsxCy9Ctp7"
      },
      "source": [
        "## Python Character Set\n",
        "\n",
        "A character set is the foundation of any programming language. Python supports the following:\n",
        "1. **Letters**: A-Z, a-z\n",
        "2. **Digits**: 0-9\n",
        "3. **Special Symbols**: +, -, *, /, %, etc.\n",
        "4. **Whitespaces**: Space, tab, newline, etc.\n",
        "5. **ASCII & Unicode**: Python can process all ASCII and Unicode characters, making it versatile for global applications.\n"
      ]
    },
    {
      "cell_type": "markdown",
      "source": [
        "# **Comments in Python**\n",
        "**Key Points:**\n",
        "\n",
        "Use # for single-line comments.\n",
        "Use triple quotes (''' or \"\"\") for multi-line comments."
      ],
      "metadata": {
        "id": "xX16hZh_oP49"
      }
    },
    {
      "cell_type": "code",
      "source": [
        "# This is a single-line comment\n",
        "#This is a comment .\n",
        "print(\"Comments are ignored by Python\")\n",
        "\n",
        "\"\"\"\n",
        "This is a multi-line comment.\n",
        "It spans across multiple lines.\n",
        "\"\"\"\n"
      ],
      "metadata": {
        "id": "NJ1d4ty1ofis"
      },
      "execution_count": null,
      "outputs": []
    },
    {
      "cell_type": "markdown",
      "source": [
        "# Indentation in Python\n",
        "**Key Points:**\n",
        "\n",
        "Indentation defines blocks of code.\n",
        "Consistent use of spaces or tabs is required.\n",
        "Common error: IndentationError."
      ],
      "metadata": {
        "id": "q-HMgwKPomTt"
      }
    },
    {
      "cell_type": "code",
      "source": [
        "# Correct indentation\n",
        "if 10 > 5:\n",
        "      print(\"10 is greater than 5\")\n",
        "\n",
        "# Incorrect indentation\n",
        "# if 10 > 5:\n",
        "# print(\"This will cause an IndentationError\")"
      ],
      "metadata": {
        "id": "acQyUzfKorM9",
        "colab": {
          "base_uri": "https://localhost:8080/"
        },
        "outputId": "b3c4d704-8160-4dab-963d-ca5e503cd53e"
      },
      "execution_count": null,
      "outputs": [
        {
          "output_type": "stream",
          "name": "stdout",
          "text": [
            "10 is greater than 5\n"
          ]
        }
      ]
    },
    {
      "cell_type": "markdown",
      "source": [],
      "metadata": {
        "id": "g0riMaDioqmu"
      }
    },
    {
      "cell_type": "markdown",
      "metadata": {
        "id": "42MK6eoGCz9A"
      },
      "source": [
        "## Variables in Python\n",
        "\n",
        "A variable is a name given to a memory location to store data. Python allows dynamic typing, meaning you can assign different data types to the same variable during execution.\n",
        "\n",
        "### Rules for Naming Variables:\n",
        "1. Variables must start with a letter or underscore.\n",
        "2. They cannot start with a digit.\n",
        "3. Variable names are case-sensitive.\n",
        "4. Reserved keywords (e.g., `if`, `else`, `class`) cannot be used.\n",
        "\n",
        "### Example:\n"
      ]
    },
    {
      "cell_type": "code",
      "execution_count": null,
      "metadata": {
        "colab": {
          "base_uri": "https://localhost:8080/"
        },
        "id": "q1RyzgoLC6yo",
        "outputId": "0fc16957-5ad0-41a1-af71-e86acdc4c731"
      },
      "outputs": [
        {
          "output_type": "stream",
          "name": "stdout",
          "text": [
            "I am teaching python to Icode Family  24\n"
          ]
        }
      ],
      "source": [
        "# Variable Declaration\n",
        "student = 24\n",
        "course = \"Python\"\n",
        "\n",
        "print (\"I am teaching python to Icode Family \", student)\n"
      ]
    },
    {
      "cell_type": "markdown",
      "metadata": {
        "id": "wlWVV-ypDBEk"
      },
      "source": [
        "## Data Types in Python\n",
        "**Python supports multiple data types:**\n",
        "int, float, str, bool\n",
        "Complex types like list, tuple, dict\n",
        "Python supports multiple built-in data types. These include:\n",
        "1. **Integers**: Whole numbers (e.g., 10, -5)\n",
        "2. **Floats**: Decimal numbers (e.g., 3.14, -0.01)\n",
        "3. **Strings**: Text enclosed in quotes (e.g., \"Hello\")\n",
        "4. **Booleans**: True or False values\n",
        "5. **None**: Represents the absence of value\n",
        "\n",
        "### Type Checking\n",
        "You can use the `type()` function to check the type of any variable.\n"
      ]
    },
    {
      "cell_type": "code",
      "source": [
        "age = 25            # Integer\n",
        "height = 5.8        # Float\n",
        "is_student = True   # Boolean\n",
        "colors = [\"red\", \"blue\", \"green\"] # List\n",
        "person = {\"name\": \"Alice\", \"age\": 30} # Dictionary\n",
        "\n",
        "participants = 24\n",
        "\n",
        "print (type(participants))"
      ],
      "metadata": {
        "id": "Q1bBABJypEA0",
        "colab": {
          "base_uri": "https://localhost:8080/"
        },
        "outputId": "05c89722-b5b0-4861-e670-62bfb2138102"
      },
      "execution_count": null,
      "outputs": [
        {
          "output_type": "stream",
          "name": "stdout",
          "text": [
            "<class 'int'>\n"
          ]
        }
      ]
    },
    {
      "cell_type": "code",
      "execution_count": null,
      "metadata": {
        "colab": {
          "base_uri": "https://localhost:8080/"
        },
        "id": "IHdK9-BIDDZm",
        "outputId": "2d031614-e581-4370-e657-c0ace6c45483"
      },
      "outputs": [
        {
          "output_type": "stream",
          "name": "stdout",
          "text": [
            "<class 'int'> <class 'float'> <class 'str'> <class 'bool'> <class 'NoneType'>\n"
          ]
        }
      ],
      "source": [
        "# Demonstrating Data Types\n",
        "integer_var = 42\n",
        "float_var = 3.14159\n",
        "string_var = \"Python\"\n",
        "boolean_var = False\n",
        "none_var = None\n",
        "\n",
        "print(type(integer_var), type(float_var), type(string_var), type(boolean_var), type(none_var))\n"
      ]
    },
    {
      "cell_type": "markdown",
      "source": [
        "# Input/Output Operations\n",
        "**Key Points:**\n",
        "\n",
        "Use **input()** for taking user input.\n",
        "\n",
        "Use **print()** for displaying output.\n",
        "\n",
        "Convert input types as needed **(e.g., int, float)**."
      ],
      "metadata": {
        "id": "Osx27zy5pHkL"
      }
    },
    {
      "cell_type": "code",
      "source": [
        "name = input(\"What is your name? \")\n",
        "age = int(input(\"How old are you? \"))\n",
        "print(\"Hello,\", name)\n",
        "print(\"You will be\", age + 1, \"next year!\")\n"
      ],
      "metadata": {
        "id": "P_i5Euj7pq1D",
        "colab": {
          "base_uri": "https://localhost:8080/"
        },
        "outputId": "f709ed19-e02c-4651-e70d-43af083c0a7b"
      },
      "execution_count": null,
      "outputs": [
        {
          "output_type": "stream",
          "name": "stdout",
          "text": [
            "What is your name? asim , 22\n",
            "How old are you? 22\n",
            "Hello, asim , 22\n",
            "You will be 23 next year!\n"
          ]
        }
      ]
    },
    {
      "cell_type": "markdown",
      "source": [
        "# Hands-On Challenge\n",
        "**Task:**\n",
        "**Write a program that:**\n",
        "\n",
        "Takes a user's name, age, and favorite color as input.\n",
        "\n",
        "Prints a personalized message using the inputs."
      ],
      "metadata": {
        "id": "_6HH9fecpvce"
      }
    },
    {
      "cell_type": "markdown",
      "metadata": {
        "id": "YGo8ehkZFkVG"
      },
      "source": [
        "## Keywords in Python\n",
        "\n",
        "### What are Keywords?\n",
        "Keywords are reserved words in Python that have predefined meanings and cannot be used as variable names or identifiers.\n",
        "\n",
        "### Common Python Keywords:\n",
        "- **Control Flow**: `if`, `else`, `elif`, `while`, `for`, `break`, `continue`, `pass`\n",
        "- **Logical Operations**: `and`, `or`, `not`, `is`, `in`\n",
        "- **Special Constants**: `True`, `False`, `None`\n",
        "- **Class & Function Definition**: `def`, `class`, `return`\n",
        "- **Others**: `import`, `from`, `as`, `with`, `try`, `except`, `finally`\n",
        "\n"
      ]
    },
    {
      "cell_type": "code",
      "execution_count": null,
      "metadata": {
        "colab": {
          "base_uri": "https://localhost:8080/"
        },
        "id": "EMvGoag6Fntp",
        "outputId": "7557a5fc-e243-40b7-954f-a52cb369fedf"
      },
      "outputs": [
        {
          "output_type": "stream",
          "name": "stdout",
          "text": [
            "['False', 'None', 'True', 'and', 'as', 'assert', 'async', 'await', 'break', 'class', 'continue', 'def', 'del', 'elif', 'else', 'except', 'finally', 'for', 'from', 'global', 'if', 'import', 'in', 'is', 'lambda', 'nonlocal', 'not', 'or', 'pass', 'raise', 'return', 'try', 'while', 'with', 'yield']\n"
          ]
        }
      ],
      "source": [
        "import keyword\n",
        "\n",
        "print(keyword.kwlist)"
      ]
    },
    {
      "cell_type": "markdown",
      "source": [
        "## Comments in Python\n",
        "\n",
        "Comments are used to explain code or make it more readable. They are ignored by the Python interpreter.\n",
        "\n",
        "### Types of Comments:\n",
        "1. **Single-line comments**: Begin with `#`\n",
        "2. **Multi-line comments**: Enclosed within triple quotes (`'''` or `\"\"\"`)\n",
        "\n",
        "### When to Use Comments:\n",
        "- To explain the purpose of a block of code.\n",
        "- To make the code more understandable for future developers (or yourself).\n",
        "- To temporarily disable code during debugging.\n",
        "\n",
        "### Examples:\n"
      ],
      "metadata": {
        "id": "9vowogxGGK1L"
      }
    },
    {
      "cell_type": "code",
      "source": [
        "# Single-line comment\n",
        "print(\"Hello, World!\")  # This prints a greeting message\n",
        "\n",
        "\"\"\"\n",
        "This is a multi-line comment.\n",
        "You can write explanations over multiple lines.\n",
        "\"\"\"\n",
        "print(\"Python is awesome!\")\n"
      ],
      "metadata": {
        "colab": {
          "base_uri": "https://localhost:8080/"
        },
        "id": "QQ34D11hGN47",
        "outputId": "c7b387b8-a42e-49fe-f62e-2dda191d547a"
      },
      "execution_count": null,
      "outputs": [
        {
          "output_type": "stream",
          "name": "stdout",
          "text": [
            "Hello, World!\n",
            "Python is awesome!\n"
          ]
        }
      ]
    },
    {
      "cell_type": "markdown",
      "source": [],
      "metadata": {
        "id": "PsYz3pMRGQHA"
      }
    },
    {
      "cell_type": "markdown",
      "metadata": {
        "id": "YH4ZOozmDFuW"
      },
      "source": [
        "## Taking Input in Python\n",
        "\n",
        "Python provides the `input()` function to accept user input. By default, it returns the value as a string. Use type casting to convert it to other data types.\n",
        "\n",
        "### Examples:\n",
        "1. **Integer Input**: `int(input())`\n",
        "2. **Float Input**: `float(input())`\n",
        "3. **String Input**: No conversion needed.\n"
      ]
    },
    {
      "cell_type": "code",
      "execution_count": null,
      "metadata": {
        "id": "q8ud-RJJDH5y",
        "colab": {
          "base_uri": "https://localhost:8080/"
        },
        "outputId": "1ca45856-b61b-4dd0-96ff-c0ef8c4ca398"
      },
      "outputs": [
        {
          "output_type": "stream",
          "name": "stdout",
          "text": [
            "Enter an integer: 1\n",
            "Enter a floating-point number: 2.5\n",
            "Enter your name: imtiaz\n",
            "Integer: {num1}, Float: {num2}, Name: {name}\n"
          ]
        }
      ],
      "source": [
        "# Integer Input\n",
        "num1 = int(input(\"Enter an integer: \"))\n",
        "\n",
        "# Float Input\n",
        "num2 = float(input(\"Enter a floating-point number: \"))\n",
        "\n",
        "# String Input\n",
        "name = input(\"Enter your name: \")\n",
        "\n",
        "print(\"Integer: {num1}, Float: {num2}, Name: {name}\")\n"
      ]
    },
    {
      "cell_type": "markdown",
      "source": [
        "## Type Casting in Python\n",
        "\n",
        "Type casting is the process of converting a variable from one type to another. Python supports both **implicit** and **explicit** type casting.\n",
        "\n",
        "### Implicit Type Casting:\n",
        "Python automatically converts one data type to another when needed.\n",
        "\n",
        "### Explicit Type Casting:\n",
        "Requires using specific functions like `int()`, `float()`, `str()`, etc.\n",
        "\n",
        "### Examples:\n",
        "1. Convert a string to an integer.\n",
        "2. Convert a float to an integer.\n",
        "3. Convert an integer to a string.\n"
      ],
      "metadata": {
        "id": "SpunmLToGVfR"
      }
    },
    {
      "cell_type": "code",
      "source": [
        "# Implicit Type Casting\n",
        "a = 5\n",
        "b = 2.5\n",
        "c = a + b  # Python converts 'a' to float automatically\n",
        "print(\"Type of c:\", type(c))\n",
        "\n",
        "# Explicit Type Casting\n",
        "# String to Integer\n",
        "num_str = \"123\"\n",
        "num_int = int(num_str)\n",
        "print(\"String to Integer:\", num_int)\n",
        "\n",
        "# Float to Integer\n",
        "num_float = 5.67\n",
        "num_int = int(num_float)\n",
        "print(\"Float to Integer:\", num_int)\n",
        "\n",
        "# Integer to String\n",
        "num = 42\n",
        "num_str = str(num)\n",
        "print(\"Integer to String:\", num_str)\n"
      ],
      "metadata": {
        "id": "ClRL-4ygGWbo"
      },
      "execution_count": null,
      "outputs": []
    },
    {
      "cell_type": "markdown",
      "source": [
        "## Type Conversion in Python\n",
        "\n",
        "Type conversion is the process of converting one data type into another. It differs from type casting in that type conversion typically involves operations that may fail if the data isn’t compatible.\n",
        "\n",
        "### Common Type Conversion Functions:\n",
        "1. **int()**: Converts to integer.\n",
        "2. **float()**: Converts to float.\n",
        "3. **str()**: Converts to string.\n",
        "4. **bool()**: Converts to boolean.\n",
        "\n",
        "### Examples:\n"
      ],
      "metadata": {
        "id": "FxIR0TMAGZzJ"
      }
    },
    {
      "cell_type": "code",
      "source": [
        "# Examples of Type Conversion\n",
        "# Integer to Float\n",
        "a = 10\n",
        "b = float(a)\n",
        "print(\"Integer to Float:\", b)\n",
        "\n",
        "# Float to String\n",
        "c = 3.14\n",
        "d = str(c)\n",
        "print(\"Float to String:\", d)\n",
        "\n",
        "# String to Boolean\n",
        "e = \"True\"\n",
        "f = bool(e)\n",
        "print(\"String to Boolean:\", f)\n"
      ],
      "metadata": {
        "id": "WL_aQKhhGam4"
      },
      "execution_count": null,
      "outputs": []
    },
    {
      "cell_type": "markdown",
      "metadata": {
        "id": "0aW2b7s5DKAy"
      },
      "source": [
        "## Arithmetic Operations in Python\n",
        "\n",
        "Python supports basic arithmetic operators:\n",
        "- **Addition**: `+`\n",
        "- **Subtraction**: `-`\n",
        "- **Multiplication**: `*`\n",
        "- **Division**: `/`\n",
        "- **Modulus**: `%` (remainder)\n",
        "- **Exponentiation**: `**` (power)\n",
        "\n",
        "### Example:\n",
        "Performing operations between two numbers.\n"
      ]
    },
    {
      "cell_type": "code",
      "execution_count": null,
      "metadata": {
        "id": "_kgj21nWDMDy"
      },
      "outputs": [],
      "source": [
        "# Arithmetic Examples\n",
        "a, b = 7, 3\n",
        "\n",
        "print(\"Addition:\", a + b)\n",
        "print(\"Subtraction:\", a - b)\n",
        "print(\"Multiplication:\", a * b)\n",
        "print(\"Division:\", a / b)\n",
        "print(\"Modulus:\", a % b)\n",
        "print(\"Exponentiation:\", a ** b)\n"
      ]
    },
    {
      "cell_type": "markdown",
      "metadata": {
        "id": "Un0widkJDQwC"
      },
      "source": [
        "## Practice Problems\n",
        "\n",
        "1. Write a program to input two numbers and print their sum.\n",
        "2. Write a program to input the side of a square and calculate its area.\n",
        "3. Write a program to input two floating-point numbers and print their average.\n",
        "4. Write a program to input two integers, `a` and `b`. Print `True` if `a` is greater than or equal to `b`, otherwise print `False`.\n"
      ]
    },
    {
      "cell_type": "code",
      "execution_count": null,
      "metadata": {
        "id": "MB93cZKTDTHo"
      },
      "outputs": [],
      "source": [
        "# Problem 1: Sum of Two Numbers\n",
        "num1 = int(input(\"Enter the first number: \"))\n",
        "num2 = int(input(\"Enter the second number: \"))\n",
        "print(\"Sum:\", num1 + num2)\n",
        "\n",
        "# Problem 2: Area of a Square\n",
        "side = float(input(\"Enter the side length of a square: \"))\n",
        "print(\"Area of square:\", side ** 2)\n",
        "\n",
        "# Problem 3: Average of Two Floating Numbers\n",
        "num1 = float(input(\"Enter the first number: \"))\n",
        "num2 = float(input(\"Enter the second number: \"))\n",
        "print(\"Average:\", (num1 + num2) / 2)\n",
        "\n",
        "# Problem 4: Comparison\n",
        "a = int(input(\"Enter the first number (a): \"))\n",
        "b = int(input(\"Enter the second number (b): \"))\n",
        "print(\"Is a >= b?\", a >= b)\n"
      ]
    }
  ],
  "metadata": {
    "colab": {
      "provenance": [],
      "include_colab_link": true
    },
    "kernelspec": {
      "display_name": "Python 3",
      "name": "python3"
    },
    "language_info": {
      "name": "python"
    }
  },
  "nbformat": 4,
  "nbformat_minor": 0
}