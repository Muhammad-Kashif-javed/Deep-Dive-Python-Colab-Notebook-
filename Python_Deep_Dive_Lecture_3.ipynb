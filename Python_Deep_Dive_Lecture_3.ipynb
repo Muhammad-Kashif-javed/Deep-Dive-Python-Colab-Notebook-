{
  "nbformat": 4,
  "nbformat_minor": 0,
  "metadata": {
    "colab": {
      "provenance": [],
      "include_colab_link": true
    },
    "kernelspec": {
      "name": "python3",
      "display_name": "Python 3"
    },
    "language_info": {
      "name": "python"
    }
  },
  "cells": [
    {
      "cell_type": "markdown",
      "metadata": {
        "id": "view-in-github",
        "colab_type": "text"
      },
      "source": [
        "<a href=\"https://colab.research.google.com/github/Muhammad-Kashif-javed/Deep-Dive-Python-Colab-Notebook-/blob/main/Python_Deep_Dive_Lecture_3.ipynb\" target=\"_parent\"><img src=\"https://colab.research.google.com/assets/colab-badge.svg\" alt=\"Open In Colab\"/></a>"
      ]
    },
    {
      "cell_type": "markdown",
      "source": [
        "# **Day 3: Control Flow in Python**\n",
        "\n",
        "Welcome to Day 3 of our Python learning journey! Today, we'll dive into the fundamentals of control flow. Here's what we’ll cover:\n",
        "\n",
        "### **Topics for Today**\n",
        "1. Conditional Statements: `if`, `elif`, `else`\n",
        "2. Loops: `for` and `while`\n",
        "3. Loop Control Statements: `break`, `continue`, and `pass`\n",
        "4. Error Handling : `try`and `except`\n",
        "\n",
        "Let’s get started!\n",
        "\n",
        "---\n",
        "\n",
        "## **1. Conditional Statements**\n",
        "\n",
        "Conditional statements allow us to make decisions based on conditions. The structure includes:\n",
        "- **`if`**: Executes when the condition is true.\n",
        "- **`elif`**: Checks additional conditions if the first one is false.\n",
        "- **`else`**: Executes when no conditions are true.\n",
        "\n",
        "\n",
        "### **1.1 Syntax**\n",
        "```python\n",
        "if condition:\n",
        "    # Code block to execute\n",
        "elif another_condition:\n",
        "    # Code block to execute\n",
        "else:\n",
        "    # Code block to execute if all conditions are False\n"
      ],
      "metadata": {
        "id": "2MXdPQCmdd9B"
      }
    },
    {
      "cell_type": "markdown",
      "source": [
        "### Game Score Feedback Program\n",
        "\n",
        "This simple program takes a game score as input and gives feedback based on the score entered. The score must be between 0 and 100.\n"
      ],
      "metadata": {
        "id": "C3kSt42icd2D"
      }
    },
    {
      "cell_type": "code",
      "source": [
        "score = int(input(\"Enter your game score (0-100): \"))\n",
        "\n",
        "if score >= 90:\n",
        "    print(\"🏆 Legendary! You're a gaming master!\")\n",
        "elif score >= 70:\n",
        "    print(\"🌟 Great job! Keep pushing!\")\n",
        "elif score >= 50:\n",
        "    print(\"👍 Good effort! Practice makes perfect!\")\n",
        "else:\n",
        "    print(\"🎮 Keep trying! You'll get better!\")"
      ],
      "metadata": {
        "id": "DkXuSH4Pcc-p",
        "colab": {
          "base_uri": "https://localhost:8080/"
        },
        "outputId": "a46a6f9e-df2d-482a-d995-031248fc3d37"
      },
      "execution_count": null,
      "outputs": [
        {
          "output_type": "stream",
          "name": "stdout",
          "text": [
            "Enter your game score (0-100): 65\n",
            "👍 Good effort! Practice makes perfect!\n"
          ]
        }
      ]
    },
    {
      "cell_type": "markdown",
      "source": [
        "### Login Program with Email and Password Verification\n",
        "\n",
        "This program prompts the user to enter an email and a password, and then checks if they match predefined values. If the email and password are correct, the user is welcomed. Otherwise, feedback is provided based on the input.\n"
      ],
      "metadata": {
        "id": "dRba8Jskchi4"
      }
    },
    {
      "cell_type": "code",
      "source": [
        "# login program and indentation\n",
        "# email -> ahmad@gmail.com\n",
        "# password -> 1234\n",
        "email = input('enter email')\n",
        "password = input('enter password')\n",
        "\n",
        "if email == 'ahmad@gmail.com' and password == '1234':\n",
        "  print('Welcome')\n",
        "elif email == 'ahmad@gmail.com' and password != '1234':\n",
        "  # tell the user\n",
        "  print('Incorrect password')\n",
        "  password = input('enter password again')\n",
        "  if password == '1234':\n",
        "    print('Welcome,finally!')\n",
        "  else:\n",
        "    print('Wrong Again')\n",
        "else:\n",
        "  print('Not correct')"
      ],
      "metadata": {
        "id": "WAAlGRvs0eVM",
        "colab": {
          "base_uri": "https://localhost:8080/"
        },
        "outputId": "8b98d177-ba26-45d9-9e53-63a7e3057809"
      },
      "execution_count": null,
      "outputs": [
        {
          "output_type": "stream",
          "name": "stdout",
          "text": [
            "enter emailahmad@gmail.com\n",
            "enter password589\n",
            "Incorrect password\n",
            "enter password again1234\n",
            "Welcome,finally!\n"
          ]
        }
      ]
    },
    {
      "cell_type": "markdown",
      "source": [
        "### 💡 Task:\n",
        "\n",
        "Write a program that:\n",
        "\n",
        "1. Takes a number as input.\n",
        "2. Prints:\n",
        "   - \"Positive\" if the number is > 0.\n",
        "   - \"Negative\" if the number is < 0.\n",
        "   - \"Zero\" if the number is 0.\n"
      ],
      "metadata": {
        "id": "c6QoAoPij68w"
      }
    },
    {
      "cell_type": "code",
      "source": [],
      "metadata": {
        "id": "RBl9fvcjkDv4"
      },
      "execution_count": null,
      "outputs": []
    },
    {
      "cell_type": "markdown",
      "source": [
        "# Understanding Loops and Nested Loops in Python\n",
        "\n",
        "In Python, loops allow us to repeat a block of code multiple times. There are two main types of loops:\n",
        "\n",
        "- **`for` loop**: Used for iterating over a sequence (like a list, range, or string).\n",
        "- **`while` loop**: Used to repeat a block of code as long as a specified condition is true.\n",
        "\n",
        "This notebook will guide you through both types of loops with practical examples and interactive exercises.\n",
        "\n",
        "---\n",
        "\n",
        "### **Interactive Learning**  \n",
        "Each section includes code examples and tasks. Execute the code cells and practice on your own!\n",
        "\n",
        "---\n",
        "\n"
      ],
      "metadata": {
        "id": "MQzbN-cVkEtp"
      }
    },
    {
      "cell_type": "markdown",
      "source": [
        "\n",
        "## The `for` Loop\n",
        "\n",
        "The `for` loop is ideal when you know the number of iterations or want to iterate over a sequence of items (like a list, tuple, or range).\n",
        "\n",
        "### Syntax:\n",
        "```python\n",
        "for item in sequence:\n",
        "    # Code to execute\n"
      ],
      "metadata": {
        "id": "1pj1mwivpg_5"
      }
    },
    {
      "cell_type": "markdown",
      "source": [
        "# Example 1: `for` loop"
      ],
      "metadata": {
        "id": "PT8d2XL5xlby"
      }
    },
    {
      "cell_type": "code",
      "source": [
        "number = int(input('Enter the number: '))\n",
        "\n",
        "for i in range(1, 11):\n",
        "    print(number, '*', i, '=', number * i)"
      ],
      "metadata": {
        "id": "aWlFpmLAqBhg",
        "colab": {
          "base_uri": "https://localhost:8080/"
        },
        "outputId": "53d7ba6e-2459-4890-e141-0f4e29df2da0"
      },
      "execution_count": null,
      "outputs": [
        {
          "output_type": "stream",
          "name": "stdout",
          "text": [
            "Enter the number: 7\n",
            "7 * 1 = 7\n",
            "7 * 2 = 14\n",
            "7 * 3 = 21\n",
            "7 * 4 = 28\n",
            "7 * 5 = 35\n",
            "7 * 6 = 42\n",
            "7 * 7 = 49\n",
            "7 * 8 = 56\n",
            "7 * 9 = 63\n",
            "7 * 10 = 70\n"
          ]
        }
      ]
    },
    {
      "cell_type": "markdown",
      "source": [
        "# **range()**"
      ],
      "metadata": {
        "id": "XLAH8kDQpnFZ"
      }
    },
    {
      "cell_type": "code",
      "source": [
        "# Loop through numbers 1 to 5\n",
        "for i in range(1,51 ,2):\n",
        "    print(i)\n"
      ],
      "metadata": {
        "id": "U4LbjeEMpbi7"
      },
      "execution_count": null,
      "outputs": []
    },
    {
      "cell_type": "markdown",
      "source": [
        "\n",
        "---\n",
        "\n",
        "# **The `while` Loop**\n",
        "The `while` loop repeatedly executes a block of code as long as the given condition remains `True`. Unlike the `for` loop, you don’t know the number of iterations in advance.\n",
        "\n",
        "### Syntax:\n",
        "```python\n",
        "while condition:\n",
        "    # Code to execute\n"
      ],
      "metadata": {
        "id": "PDt0nzntpt7Q"
      }
    },
    {
      "cell_type": "markdown",
      "source": [
        "# Example 1: `while` loop"
      ],
      "metadata": {
        "id": "wtHfbft-ygtp"
      }
    },
    {
      "cell_type": "code",
      "source": [
        "\n",
        "  # Print numbers from 1 to 5 using a while loop\n",
        "i = 1\n",
        "while i <= 5:\n",
        "    print(i)\n",
        "    i += 1  # Increment the value of i"
      ],
      "metadata": {
        "id": "ekbY3h_lyXrR",
        "colab": {
          "base_uri": "https://localhost:8080/"
        },
        "outputId": "477b10b0-3359-47e5-d828-f8f209a8882e"
      },
      "execution_count": null,
      "outputs": [
        {
          "output_type": "stream",
          "name": "stdout",
          "text": [
            "1\n",
            "2\n",
            "3\n",
            "4\n",
            "5\n"
          ]
        }
      ]
    },
    {
      "cell_type": "markdown",
      "source": [
        "# Example 2: `while` loop"
      ],
      "metadata": {
        "id": "oAU8QLBzrLk6"
      }
    },
    {
      "cell_type": "code",
      "source": [
        "number = int(input('enter the number'))\n",
        "\n",
        "i = 1\n",
        "\n",
        "while i<11:\n",
        "  print(number,'*',i,'=',number * i)\n",
        "  i += 1"
      ],
      "metadata": {
        "id": "qJhh4TuVp3-S",
        "colab": {
          "base_uri": "https://localhost:8080/"
        },
        "outputId": "5a5cfdf4-d822-45b9-905a-ab68dcaae91d"
      },
      "execution_count": null,
      "outputs": [
        {
          "output_type": "stream",
          "name": "stdout",
          "text": [
            "enter the number8\n",
            "8 * 1 = 8\n",
            "8 * 2 = 16\n",
            "8 * 3 = 24\n",
            "8 * 4 = 32\n",
            "8 * 5 = 40\n",
            "8 * 6 = 48\n",
            "8 * 7 = 56\n",
            "8 * 8 = 64\n",
            "8 * 9 = 72\n",
            "8 * 10 = 80\n"
          ]
        }
      ]
    },
    {
      "cell_type": "markdown",
      "source": [
        "# Loop with Exit Condition (User Input 0 to Exit)"
      ],
      "metadata": {
        "id": "aOQNBF3Yy6lS"
      }
    },
    {
      "cell_type": "code",
      "source": [
        "# Loop until the user enters the number 0\n",
        "while True:\n",
        "    number = int(input(\"Enter a number (0 to exit): \"))\n",
        "    if number == 0:\n",
        "        print(\"Exiting the loop.\")\n",
        "        break  # Exit the loop when the user enters 0\n",
        "    print(f\"You entered: {number}\")"
      ],
      "metadata": {
        "id": "ezpH7uwBy2Cq",
        "colab": {
          "base_uri": "https://localhost:8080/",
          "height": 408
        },
        "outputId": "63899943-395c-49de-ef0e-88aa88444b35"
      },
      "execution_count": null,
      "outputs": [
        {
          "output_type": "stream",
          "name": "stdout",
          "text": [
            "Enter a number (0 to exit): 0\n",
            "Exiting the loop.\n",
            "You entered: 0\n"
          ]
        },
        {
          "output_type": "error",
          "ename": "KeyboardInterrupt",
          "evalue": "Interrupted by user",
          "traceback": [
            "\u001b[0;31m---------------------------------------------------------------------------\u001b[0m",
            "\u001b[0;31mKeyboardInterrupt\u001b[0m                         Traceback (most recent call last)",
            "\u001b[0;32m<ipython-input-24-ebf2fbd62c13>\u001b[0m in \u001b[0;36m<cell line: 2>\u001b[0;34m()\u001b[0m\n\u001b[1;32m      1\u001b[0m \u001b[0;31m# Loop until the user enters the number 0\u001b[0m\u001b[0;34m\u001b[0m\u001b[0;34m\u001b[0m\u001b[0m\n\u001b[1;32m      2\u001b[0m \u001b[0;32mwhile\u001b[0m \u001b[0;32mTrue\u001b[0m\u001b[0;34m:\u001b[0m\u001b[0;34m\u001b[0m\u001b[0;34m\u001b[0m\u001b[0m\n\u001b[0;32m----> 3\u001b[0;31m     \u001b[0mnumber\u001b[0m \u001b[0;34m=\u001b[0m \u001b[0mint\u001b[0m\u001b[0;34m(\u001b[0m\u001b[0minput\u001b[0m\u001b[0;34m(\u001b[0m\u001b[0;34m\"Enter a number (0 to exit): \"\u001b[0m\u001b[0;34m)\u001b[0m\u001b[0;34m)\u001b[0m\u001b[0;34m\u001b[0m\u001b[0;34m\u001b[0m\u001b[0m\n\u001b[0m\u001b[1;32m      4\u001b[0m     \u001b[0;32mif\u001b[0m \u001b[0mnumber\u001b[0m \u001b[0;34m==\u001b[0m \u001b[0;36m0\u001b[0m\u001b[0;34m:\u001b[0m\u001b[0;34m\u001b[0m\u001b[0;34m\u001b[0m\u001b[0m\n\u001b[1;32m      5\u001b[0m         \u001b[0mprint\u001b[0m\u001b[0;34m(\u001b[0m\u001b[0;34m\"Exiting the loop.\"\u001b[0m\u001b[0;34m)\u001b[0m\u001b[0;34m\u001b[0m\u001b[0;34m\u001b[0m\u001b[0m\n",
            "\u001b[0;32m/usr/local/lib/python3.10/dist-packages/ipykernel/kernelbase.py\u001b[0m in \u001b[0;36mraw_input\u001b[0;34m(self, prompt)\u001b[0m\n\u001b[1;32m    849\u001b[0m                 \u001b[0;34m\"raw_input was called, but this frontend does not support input requests.\"\u001b[0m\u001b[0;34m\u001b[0m\u001b[0;34m\u001b[0m\u001b[0m\n\u001b[1;32m    850\u001b[0m             )\n\u001b[0;32m--> 851\u001b[0;31m         return self._input_request(str(prompt),\n\u001b[0m\u001b[1;32m    852\u001b[0m             \u001b[0mself\u001b[0m\u001b[0;34m.\u001b[0m\u001b[0m_parent_ident\u001b[0m\u001b[0;34m,\u001b[0m\u001b[0;34m\u001b[0m\u001b[0;34m\u001b[0m\u001b[0m\n\u001b[1;32m    853\u001b[0m             \u001b[0mself\u001b[0m\u001b[0;34m.\u001b[0m\u001b[0m_parent_header\u001b[0m\u001b[0;34m,\u001b[0m\u001b[0;34m\u001b[0m\u001b[0;34m\u001b[0m\u001b[0m\n",
            "\u001b[0;32m/usr/local/lib/python3.10/dist-packages/ipykernel/kernelbase.py\u001b[0m in \u001b[0;36m_input_request\u001b[0;34m(self, prompt, ident, parent, password)\u001b[0m\n\u001b[1;32m    893\u001b[0m             \u001b[0;32mexcept\u001b[0m \u001b[0mKeyboardInterrupt\u001b[0m\u001b[0;34m:\u001b[0m\u001b[0;34m\u001b[0m\u001b[0;34m\u001b[0m\u001b[0m\n\u001b[1;32m    894\u001b[0m                 \u001b[0;31m# re-raise KeyboardInterrupt, to truncate traceback\u001b[0m\u001b[0;34m\u001b[0m\u001b[0;34m\u001b[0m\u001b[0m\n\u001b[0;32m--> 895\u001b[0;31m                 \u001b[0;32mraise\u001b[0m \u001b[0mKeyboardInterrupt\u001b[0m\u001b[0;34m(\u001b[0m\u001b[0;34m\"Interrupted by user\"\u001b[0m\u001b[0;34m)\u001b[0m \u001b[0;32mfrom\u001b[0m \u001b[0;32mNone\u001b[0m\u001b[0;34m\u001b[0m\u001b[0;34m\u001b[0m\u001b[0m\n\u001b[0m\u001b[1;32m    896\u001b[0m             \u001b[0;32mexcept\u001b[0m \u001b[0mException\u001b[0m \u001b[0;32mas\u001b[0m \u001b[0me\u001b[0m\u001b[0;34m:\u001b[0m\u001b[0;34m\u001b[0m\u001b[0;34m\u001b[0m\u001b[0m\n\u001b[1;32m    897\u001b[0m                 \u001b[0mself\u001b[0m\u001b[0;34m.\u001b[0m\u001b[0mlog\u001b[0m\u001b[0;34m.\u001b[0m\u001b[0mwarning\u001b[0m\u001b[0;34m(\u001b[0m\u001b[0;34m\"Invalid Message:\"\u001b[0m\u001b[0;34m,\u001b[0m \u001b[0mexc_info\u001b[0m\u001b[0;34m=\u001b[0m\u001b[0;32mTrue\u001b[0m\u001b[0;34m)\u001b[0m\u001b[0;34m\u001b[0m\u001b[0;34m\u001b[0m\u001b[0m\n",
            "\u001b[0;31mKeyboardInterrupt\u001b[0m: Interrupted by user"
          ]
        }
      ]
    },
    {
      "cell_type": "markdown",
      "source": [
        "### 💡 Task:\n",
        "\n",
        "Write a `while` loop to find the sum of numbers from 1 to 10.\n"
      ],
      "metadata": {
        "id": "UKCYC3vEzVrx"
      }
    },
    {
      "cell_type": "code",
      "source": [],
      "metadata": {
        "id": "h0seAAZlzZUK"
      },
      "execution_count": null,
      "outputs": []
    },
    {
      "cell_type": "markdown",
      "source": [
        "# Number Guessing Game\n",
        "\n",
        "This program generates a random number between 1 and 100 and gives the player 10 attempts to guess it. After each guess, the program will indicate if the guess is too low, too high, or correct.\n"
      ],
      "metadata": {
        "id": "81Kgfh1Su8Pa"
      }
    },
    {
      "cell_type": "code",
      "source": [
        "import random\n",
        "\n",
        "print(\"Welcome to the Number Guessing Game!\")\n",
        "number_to_guess = random.randint(1, 100)\n",
        "#print(number_to_guess)\n",
        "attempts = 0\n",
        "max_attempts = 10\n",
        "\n",
        "while attempts < max_attempts:\n",
        "    guess = int(input(\"Enter your guess (1-100): \"))\n",
        "    attempts += 1\n",
        "\n",
        "    if guess == number_to_guess:\n",
        "        print(f\"Congratulations! You guessed the number in {attempts} attempts.\")\n",
        "        break\n",
        "    elif guess < number_to_guess:\n",
        "        print(\"Too low. Try again!\")\n",
        "    else:\n",
        "        print(\"Too high. Try again!\")\n",
        "\n",
        "if attempts == max_attempts and guess != number_to_guess:\n",
        "    print(f\"Sorry, you've used all {max_attempts} attempts. The number was {number_to_guess}.\")\n"
      ],
      "metadata": {
        "id": "GYuXjDH7vEM5",
        "colab": {
          "base_uri": "https://localhost:8080/"
        },
        "outputId": "6c2324fb-3848-47cd-f361-4303d0d0618c"
      },
      "execution_count": null,
      "outputs": [
        {
          "output_type": "stream",
          "name": "stdout",
          "text": [
            "Welcome to the Number Guessing Game!\n",
            "17\n",
            "Enter your guess (1-100): 17\n",
            "Congratulations! You guessed the number in 1 attempts.\n"
          ]
        }
      ]
    },
    {
      "cell_type": "markdown",
      "source": [
        "\n",
        "---\n",
        "\n",
        "### **Nested Loops**\n",
        "A **nested loop** is a loop inside another loop. This is useful when dealing with multi-dimensional data structures (like lists of lists) or when performing operations on items in a grid-like structure.\n",
        "\n",
        "### Syntax:\n",
        "```python\n",
        "for item1 in sequence1:\n",
        "    for item2 in sequence2:\n",
        "        # Code to execute\n"
      ],
      "metadata": {
        "id": "EZ-o8z0qqbgo"
      }
    },
    {
      "cell_type": "markdown",
      "source": [
        "Example 1: Nested `for` Loops"
      ],
      "metadata": {
        "id": "9-kfRz3Fq8up"
      }
    },
    {
      "cell_type": "code",
      "source": [
        "# Print a multiplication table using nested loops\n",
        "for i in range(1, 4):\n",
        "    for j in range(1, 4):\n",
        "        print(f'{i} * {j} = {i * j}')\n",
        "    print('---')\n"
      ],
      "metadata": {
        "id": "1idKMKLHqibg",
        "colab": {
          "base_uri": "https://localhost:8080/"
        },
        "outputId": "c6325a59-5ab5-4803-c4c3-93afb7e4fe66"
      },
      "execution_count": null,
      "outputs": [
        {
          "output_type": "stream",
          "name": "stdout",
          "text": [
            "1 * 1 = 1\n",
            "1 * 2 = 2\n",
            "1 * 3 = 3\n",
            "---\n",
            "2 * 1 = 2\n",
            "2 * 2 = 4\n",
            "2 * 3 = 6\n",
            "---\n",
            "3 * 1 = 3\n",
            "3 * 2 = 6\n",
            "3 * 3 = 9\n",
            "---\n"
          ]
        }
      ]
    },
    {
      "cell_type": "markdown",
      "source": [
        "# Example 1: Printing a Multiplication Table\n",
        "**This nested `for` loop prints a multiplication table from 1 to 5.**"
      ],
      "metadata": {
        "id": "1idUVGpEzyDT"
      }
    },
    {
      "cell_type": "code",
      "source": [
        "for i in range(1, 6):  # Outer loop (rows)\n",
        "    for j in range(1, 6):  # Inner loop (columns)\n",
        "        print(f\"{i} * {j} = {i * j}\", end=\"\\t\")\n",
        "    print()  # New line after each row\n"
      ],
      "metadata": {
        "id": "12iBx_XPz3dq",
        "colab": {
          "base_uri": "https://localhost:8080/"
        },
        "outputId": "89b3a866-b0cc-4aea-b18e-762385d3e76a"
      },
      "execution_count": null,
      "outputs": [
        {
          "output_type": "stream",
          "name": "stdout",
          "text": [
            "1 * 1 = 1\t1 * 2 = 2\t1 * 3 = 3\t1 * 4 = 4\t1 * 5 = 5\t\n",
            "2 * 1 = 2\t2 * 2 = 4\t2 * 3 = 6\t2 * 4 = 8\t2 * 5 = 10\t\n",
            "3 * 1 = 3\t3 * 2 = 6\t3 * 3 = 9\t3 * 4 = 12\t3 * 5 = 15\t\n",
            "4 * 1 = 4\t4 * 2 = 8\t4 * 3 = 12\t4 * 4 = 16\t4 * 5 = 20\t\n",
            "5 * 1 = 5\t5 * 2 = 10\t5 * 3 = 15\t5 * 4 = 20\t5 * 5 = 25\t\n"
          ]
        }
      ]
    },
    {
      "cell_type": "markdown",
      "source": [
        "# Example 2: Pattern Printing (Stars)\n",
        "A classic example is printing a pattern with nested loops. Here's how you can print a simple triangle of stars."
      ],
      "metadata": {
        "id": "diT97xAMz6SQ"
      }
    },
    {
      "cell_type": "code",
      "source": [
        "n = 5  # Height of the triangle\n",
        "\n",
        "for i in range(1, n + 1):  # Outer loop (rows)\n",
        "    for j in range(i):  # Inner loop (columns, increasing with each row)\n",
        "        print(\"*\", end=\" \")\n",
        "    print()  # New line after each row\n"
      ],
      "metadata": {
        "id": "zDaZ9Wvk0IE7",
        "colab": {
          "base_uri": "https://localhost:8080/"
        },
        "outputId": "78b5e399-ae56-46a4-dd81-f145e4cc3691"
      },
      "execution_count": null,
      "outputs": [
        {
          "output_type": "stream",
          "name": "stdout",
          "text": [
            "* \n",
            "* * \n",
            "* * * \n",
            "* * * * \n",
            "* * * * * \n"
          ]
        }
      ]
    },
    {
      "cell_type": "markdown",
      "source": [
        "# 💡 Interactive Task:\n",
        "Write a nested loop to print a 5x5 grid of numbers.\n",
        "Use a **`for`** loop for both the outer and inner loops to print each number."
      ],
      "metadata": {
        "id": "alQNkzEFrsHS"
      }
    },
    {
      "cell_type": "code",
      "source": [],
      "metadata": {
        "id": "Zlt3zFNEr5MT"
      },
      "execution_count": null,
      "outputs": []
    },
    {
      "cell_type": "markdown",
      "source": [
        "\n",
        "---\n",
        "\n",
        "# Python Control Flow: `break`, `continue`, and `pass`\n",
        "\n",
        "In Python, `break`, `continue`, and `pass` are control flow statements that modify the execution of loops and conditional structures. Here's an overview of what each statement does:\n",
        "\n",
        "| Statement | Purpose                               | Use Case                                 |\n",
        "|-----------|---------------------------------------|------------------------------------------|\n",
        "| continue  | Skip the rest of the current iteration| Skipping specific cases in a loop        |\n",
        "| break     | Exit the loop entirely                | Terminating loops based on a condition   |\n",
        "| pass      | Placeholder that does nothing         | Writing future logic or structure        |\n",
        "\n",
        "\n",
        "\n"
      ],
      "metadata": {
        "id": "wa5WcZOmfDLY"
      }
    },
    {
      "cell_type": "markdown",
      "source": [
        "# 1. `break` Statement\n",
        "- The `break` statement is used to exit a loop prematurely, regardless of whether the loop condition is still true or not.\n",
        "- It can be used in `for` and `while` loops.\n",
        "- When `break` is executed, the program immediately exits the loop and continues with the next line of code after the loop.\n"
      ],
      "metadata": {
        "id": "txMM5LtdZofh"
      }
    },
    {
      "cell_type": "code",
      "source": [
        "for i in range(1, 11):\n",
        "    if i == 5:\n",
        "        print(\"Breaking the loop at 5\")\n",
        "        break\n",
        "    print(i)"
      ],
      "metadata": {
        "id": "E98KhyLQZr8T",
        "colab": {
          "base_uri": "https://localhost:8080/"
        },
        "outputId": "633e93cd-a18c-4482-dbe3-089192d1a0db"
      },
      "execution_count": null,
      "outputs": [
        {
          "output_type": "stream",
          "name": "stdout",
          "text": [
            "1\n",
            "2\n",
            "3\n",
            "4\n",
            "Breaking the loop at 5\n"
          ]
        }
      ]
    },
    {
      "cell_type": "markdown",
      "source": [
        "# 2. `continue` Statement\n",
        "- The `continue` statement is used to skip the current iteration of a loop and proceed to the next iteration.  \n",
        "- It does not exit the loop but simply skips the rest of the code inside the loop for the current iteration."
      ],
      "metadata": {
        "id": "8Ooc0LXsZu_B"
      }
    },
    {
      "cell_type": "code",
      "source": [
        "for i in range(1, 11):\n",
        "    if i % 2 == 0:  # Skip even numbers\n",
        "        continue\n",
        "    print(i)\n"
      ],
      "metadata": {
        "id": "Z6ILrYFuZzki",
        "colab": {
          "base_uri": "https://localhost:8080/"
        },
        "outputId": "a3112d6a-1f41-4303-dd76-c3e25f1da685"
      },
      "execution_count": null,
      "outputs": [
        {
          "output_type": "stream",
          "name": "stdout",
          "text": [
            "1\n",
            "3\n",
            "5\n",
            "7\n",
            "9\n"
          ]
        }
      ]
    },
    {
      "cell_type": "markdown",
      "source": [
        "# 3. `pass` Statement\n",
        "- The `pass` statement is a null operation. It does nothing when executed.\n",
        "- It is used as a placeholder in places where code is syntactically required but no action is needed, such as in empty loops or functions.\n",
        "- The `pass` statement allows you to write code that is syntactically correct but doesn't perform any action."
      ],
      "metadata": {
        "id": "TpobmXqlZ4XB"
      }
    },
    {
      "cell_type": "code",
      "source": [
        "for i in range(1,6):\n",
        "    if i == 2:\n",
        "        pass  # Placeholder for future code\n",
        "    else:\n",
        "        print(i)"
      ],
      "metadata": {
        "id": "YXP47nhfZ72Z",
        "colab": {
          "base_uri": "https://localhost:8080/"
        },
        "outputId": "57ac51f0-3570-4aeb-b0fb-dada00174ad3"
      },
      "execution_count": null,
      "outputs": [
        {
          "output_type": "stream",
          "name": "stdout",
          "text": [
            "1\n",
            "3\n",
            "4\n",
            "5\n"
          ]
        }
      ]
    },
    {
      "cell_type": "markdown",
      "source": [
        "### 💡 Task:\n",
        "\n",
        "Write a program using a loop:\n",
        "1. Print numbers from 1 to 10.\n",
        "2. Skip numbers divisible by 3 using `continue`.\n",
        "3. Stop the loop if the number is 8 using `break`.\n"
      ],
      "metadata": {
        "id": "ckdRWPOGjMx4"
      }
    },
    {
      "cell_type": "code",
      "source": [],
      "metadata": {
        "id": "xzp4uN0z4Yp2"
      },
      "execution_count": null,
      "outputs": []
    },
    {
      "cell_type": "markdown",
      "source": [
        "\n",
        "---\n",
        "# **Try and Except**\n",
        "\n",
        "## Overview\n",
        "Try and except statements in Python are crucial for handling exceptions, allowing programs to continue running even when errors occur.\n",
        "\n",
        "## Error Handling Basics\n",
        "\n",
        "### What is Error Handling?\n",
        "Error handling is the process of anticipating and responding to potential errors during code execution.\n",
        "\n",
        "# Syntax of `try` and `except`\n",
        "- **`try:`** Contains the code that might raise an exception.\n",
        "- **`except:`** Handles the exception when it occurs.\n",
        "---\n",
        "```python\n",
        "try:\n",
        "    risky_code()\n",
        "except SomeError:\n",
        "    handle_error()\n",
        "\n",
        "\n"
      ],
      "metadata": {
        "id": "RiJej2pubZpi"
      }
    },
    {
      "cell_type": "markdown",
      "source": [
        "# Example 1 `try` and `except`"
      ],
      "metadata": {
        "id": "EO4GrFcCvmdS"
      }
    },
    {
      "cell_type": "code",
      "source": [
        "try:\n",
        "    num1 = int(input(\"Enter numerator: \"))\n",
        "    num2 = int(input(\"Enter denominator: \"))\n",
        "    result = num1 / num2\n",
        "except ZeroDivisionError:\n",
        "    print(\"Error: Division by zero!\")\n",
        "except ValueError:\n",
        "    print(\"Error: Invalid input!\")"
      ],
      "metadata": {
        "id": "ODBpdFMdvgqw",
        "colab": {
          "base_uri": "https://localhost:8080/"
        },
        "outputId": "df2ed839-b978-49ca-d224-7543ea5f011f"
      },
      "execution_count": null,
      "outputs": [
        {
          "output_type": "stream",
          "name": "stdout",
          "text": [
            "Enter numerator: sdfs\n",
            "Error: Division by zero!\n"
          ]
        }
      ]
    },
    {
      "cell_type": "markdown",
      "source": [
        "# Example 2 `try` and `except`"
      ],
      "metadata": {
        "id": "7mTjTE2NwK85"
      }
    },
    {
      "cell_type": "code",
      "source": [
        "try:\n",
        "    file = open(\"sample.txt\", \"r\")\n",
        "    content = file.read()\n",
        "    print(content)\n",
        "except FileNotFoundError:\n",
        "    print(\"File not found!\")\n",
        "else:\n",
        "    print(\"File read successfully!\")\n",
        "finally:\n",
        "    print(\"Cleaning up resources.\")"
      ],
      "metadata": {
        "id": "HZHn-dzxvjPv"
      },
      "execution_count": null,
      "outputs": []
    },
    {
      "cell_type": "markdown",
      "source": [
        "### **6. Nested `try` Blocks**\n",
        "\n",
        "Use nested `try` blocks for handling specific cases.\n",
        "\n"
      ],
      "metadata": {
        "id": "eigxsuDYwVVq"
      }
    },
    {
      "cell_type": "code",
      "source": [
        "try:\n",
        "    num1 = int(input(\"Enter numerator: \"))\n",
        "    num2 = int(input(\"Enter denominator: \"))\n",
        "    try:\n",
        "        result = num1 / num2\n",
        "        print(\"Result:\", result)\n",
        "    except ZeroDivisionError:\n",
        "        print(\"Inner: Division by zero!\")\n",
        "except ValueError:\n",
        "    print(\"Outer: Invalid input!\")"
      ],
      "metadata": {
        "id": "NSZMInSmwa2q"
      },
      "execution_count": null,
      "outputs": []
    },
    {
      "cell_type": "markdown",
      "source": [
        "\n",
        "\n",
        "\n",
        "\n",
        "# Using `else` and `finally`\n",
        "- **`else:`** Executes if no exceptions occur.\n",
        "- **`finally:`** Always executes, error or not.\n",
        "\n",
        "---\n",
        "\n"
      ],
      "metadata": {
        "id": "RcnO8yVPswny"
      }
    },
    {
      "cell_type": "code",
      "source": [
        "try:\n",
        "    # Code that might raise an exception\n",
        "    number = int(input(\"Enter a number: \"))\n",
        "    result = 10 / number\n",
        "    print(\"Result:\", result)\n",
        "except ZeroDivisionError:\n",
        "    # Code to handle division by zero error\n",
        "    print(\"Error: You cannot divide by zero.\")\n",
        "else:\n",
        "    # This block executes if no exception occurs\n",
        "    print(\"No exceptions occurred. The division was successful.\")\n",
        "finally:\n",
        "    # This block always executes, error or not\n",
        "    print(\"This block always runs, regardless of whether an exception occurred or not.\")\n"
      ],
      "metadata": {
        "id": "uio95ksHvcFd"
      },
      "execution_count": null,
      "outputs": []
    },
    {
      "cell_type": "markdown",
      "source": [
        "## Summary\n",
        "\n",
        "Today, you learned about:\n",
        "\n",
        "1. **Conditional Statements**:\n",
        "   - Use `if`, `elif`, and `else` for decision-making.\n",
        "2. **Loops**:\n",
        "   - Use `for` for iterating over sequences.\n",
        "   - Use `while` for condition-based iteration.\n",
        "3. **Loop Control Statements**:\n",
        "   - `break` to exit loops.\n",
        "   - `continue` to skip iterations.\n",
        "   - `pass` as a placeholder.\n",
        "4. **try and except**:\n",
        "   - `try` for risky code.\n",
        "   - `except` to handle risky code.\n",
        "\n",
        "## 🚀 Challenge 1:\n",
        "\n",
        "Write a program that:\n",
        "\n",
        "1. Takes a number `n` as input.\n",
        "2. Prints all odd numbers from 1 to `n`.\n",
        "3. Stops printing if the number 25 is reached.\n",
        "4. Skips numbers divisible by 7.\n",
        "\n",
        "Write your solution in the cell below."
      ],
      "metadata": {
        "id": "VyTboCYejVHg"
      }
    },
    {
      "cell_type": "code",
      "source": [],
      "metadata": {
        "id": "kfe4VbYmsQ4Z"
      },
      "execution_count": null,
      "outputs": []
    },
    {
      "cell_type": "markdown",
      "source": [
        "\n",
        "## 🚀 Challenge: 2\n",
        "\n",
        "Write a program that:\n",
        "\n",
        "1. Uses a nested loop to print a 10x10 multiplication table.\n",
        "2. Uses a `while` loop to sum all the numbers from 1 to 100.\n",
        "\n",
        "\n",
        "Write your solution in the cell below."
      ],
      "metadata": {
        "id": "rarQD19q87z-"
      }
    },
    {
      "cell_type": "code",
      "source": [],
      "metadata": {
        "id": "pqdwtpJ2sQph"
      },
      "execution_count": null,
      "outputs": []
    },
    {
      "cell_type": "markdown",
      "source": [
        "\n",
        "##🚀 Try and Escape Challenge: 3\n",
        "Now, let's make it a bit more challenging!\n",
        "\n",
        "Write a program that:\n",
        "\n",
        "1. Takes a number `n` as input.\n",
        "2. Prints the square of each number from 1 to `n`.\n",
        "3. Stops printing if the square of a number exceeds 500.\n",
        "4. Skips numbers that are multiples of 3.\n",
        "5. If the program encounters a number where the square is divisible by 5, print `Divisible by 5` and continue the loop.\n",
        "\n",
        "\n",
        "Write your solution in the cell below."
      ],
      "metadata": {
        "id": "zjlace5I8_6g"
      }
    },
    {
      "cell_type": "code",
      "source": [],
      "metadata": {
        "id": "AJkr2HSmsRk5"
      },
      "execution_count": null,
      "outputs": []
    }
  ]
}